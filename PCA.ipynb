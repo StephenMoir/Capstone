{
 "cells": [
  {
   "cell_type": "markdown",
   "metadata": {},
   "source": [
    "## BREAST CANCER PRINCIPAL COMPONENT ANALYSIS\n",
    "    \n",
    "   #### Load  the required libraries\n",
    "   #### also ensure the kernel is _mxnet"
   ]
  },
  {
   "cell_type": "code",
   "execution_count": 1,
   "metadata": {},
   "outputs": [],
   "source": [
    "# data managing and display libs\n",
    "import pandas as pd\n",
    "import numpy as np\n",
    "import os\n",
    "import io\n",
    "\n",
    "import matplotlib.pyplot as plt\n",
    "import matplotlib\n",
    "%matplotlib inline "
   ]
  },
  {
   "cell_type": "code",
   "execution_count": 2,
   "metadata": {},
   "outputs": [],
   "source": [
    "# sagemaker libraries\n",
    "import boto3\n",
    "import sagemaker"
   ]
  },
  {
   "cell_type": "markdown",
   "metadata": {},
   "source": [
    "#### Set up the Sagemaker environment"
   ]
  },
  {
   "cell_type": "code",
   "execution_count": 3,
   "metadata": {},
   "outputs": [
    {
     "name": "stdout",
     "output_type": "stream",
     "text": [
      "arn:aws:iam::396358375665:role/service-role/AmazonSageMaker-ExecutionRole-20200814T112856\n"
     ]
    }
   ],
   "source": [
    "from sagemaker import get_execution_role\n",
    "\n",
    "session = sagemaker.Session() # store the current SageMaker session\n",
    "\n",
    "# get IAM role\n",
    "role = get_execution_role()\n",
    "print(role)"
   ]
  },
  {
   "cell_type": "code",
   "execution_count": 4,
   "metadata": {},
   "outputs": [
    {
     "name": "stdout",
     "output_type": "stream",
     "text": [
      "sagemaker-eu-west-1-396358375665\n"
     ]
    }
   ],
   "source": [
    "# get default bucket\n",
    "bucket_name = session.default_bucket()\n",
    "print(bucket_name)"
   ]
  },
  {
   "cell_type": "markdown",
   "metadata": {},
   "source": [
    "#### Read in the standardised data"
   ]
  },
  {
   "cell_type": "code",
   "execution_count": 5,
   "metadata": {},
   "outputs": [
    {
     "name": "stdout",
     "output_type": "stream",
     "text": [
      "Data shape (rows, cols):  (569, 33)\n",
      "\n"
     ]
    },
    {
     "data": {
      "text/html": [
       "<div>\n",
       "<style scoped>\n",
       "    .dataframe tbody tr th:only-of-type {\n",
       "        vertical-align: middle;\n",
       "    }\n",
       "\n",
       "    .dataframe tbody tr th {\n",
       "        vertical-align: top;\n",
       "    }\n",
       "\n",
       "    .dataframe thead th {\n",
       "        text-align: right;\n",
       "    }\n",
       "</style>\n",
       "<table border=\"1\" class=\"dataframe\">\n",
       "  <thead>\n",
       "    <tr style=\"text-align: right;\">\n",
       "      <th></th>\n",
       "      <th>Unnamed: 0</th>\n",
       "      <th>id</th>\n",
       "      <th>radius_mean</th>\n",
       "      <th>texture_mean</th>\n",
       "      <th>perimeter_mean</th>\n",
       "      <th>area_mean</th>\n",
       "      <th>smoothness_mean</th>\n",
       "      <th>compactness_mean</th>\n",
       "      <th>concavity_mean</th>\n",
       "      <th>concave points_mean</th>\n",
       "      <th>...</th>\n",
       "      <th>texture_worst</th>\n",
       "      <th>perimeter_worst</th>\n",
       "      <th>area_worst</th>\n",
       "      <th>smoothness_worst</th>\n",
       "      <th>compactness_worst</th>\n",
       "      <th>concavity_worst</th>\n",
       "      <th>concave points_worst</th>\n",
       "      <th>symmetry_worst</th>\n",
       "      <th>fractal_dimension_worst</th>\n",
       "      <th>diag_value</th>\n",
       "    </tr>\n",
       "  </thead>\n",
       "  <tbody>\n",
       "    <tr>\n",
       "      <th>0</th>\n",
       "      <td>0</td>\n",
       "      <td>842302</td>\n",
       "      <td>1.097064</td>\n",
       "      <td>-2.073335</td>\n",
       "      <td>1.269934</td>\n",
       "      <td>0.984375</td>\n",
       "      <td>1.568466</td>\n",
       "      <td>3.283515</td>\n",
       "      <td>2.652874</td>\n",
       "      <td>2.532475</td>\n",
       "      <td>...</td>\n",
       "      <td>-1.359293</td>\n",
       "      <td>2.303601</td>\n",
       "      <td>2.001237</td>\n",
       "      <td>1.307686</td>\n",
       "      <td>2.616665</td>\n",
       "      <td>2.109526</td>\n",
       "      <td>2.296076</td>\n",
       "      <td>2.750622</td>\n",
       "      <td>1.937015</td>\n",
       "      <td>1</td>\n",
       "    </tr>\n",
       "    <tr>\n",
       "      <th>1</th>\n",
       "      <td>1</td>\n",
       "      <td>842517</td>\n",
       "      <td>1.829821</td>\n",
       "      <td>-0.353632</td>\n",
       "      <td>1.685955</td>\n",
       "      <td>1.908708</td>\n",
       "      <td>-0.826962</td>\n",
       "      <td>-0.487072</td>\n",
       "      <td>-0.023846</td>\n",
       "      <td>0.548144</td>\n",
       "      <td>...</td>\n",
       "      <td>-0.369203</td>\n",
       "      <td>1.535126</td>\n",
       "      <td>1.890489</td>\n",
       "      <td>-0.375612</td>\n",
       "      <td>-0.430444</td>\n",
       "      <td>-0.146749</td>\n",
       "      <td>1.087084</td>\n",
       "      <td>-0.243890</td>\n",
       "      <td>0.281190</td>\n",
       "      <td>1</td>\n",
       "    </tr>\n",
       "    <tr>\n",
       "      <th>2</th>\n",
       "      <td>2</td>\n",
       "      <td>84300903</td>\n",
       "      <td>1.579888</td>\n",
       "      <td>0.456187</td>\n",
       "      <td>1.566503</td>\n",
       "      <td>1.558884</td>\n",
       "      <td>0.942210</td>\n",
       "      <td>1.052926</td>\n",
       "      <td>1.363478</td>\n",
       "      <td>2.037231</td>\n",
       "      <td>...</td>\n",
       "      <td>-0.023974</td>\n",
       "      <td>1.347475</td>\n",
       "      <td>1.456285</td>\n",
       "      <td>0.527407</td>\n",
       "      <td>1.082932</td>\n",
       "      <td>0.854974</td>\n",
       "      <td>1.955000</td>\n",
       "      <td>1.152255</td>\n",
       "      <td>0.201391</td>\n",
       "      <td>1</td>\n",
       "    </tr>\n",
       "    <tr>\n",
       "      <th>3</th>\n",
       "      <td>3</td>\n",
       "      <td>84348301</td>\n",
       "      <td>-0.768909</td>\n",
       "      <td>0.253732</td>\n",
       "      <td>-0.592687</td>\n",
       "      <td>-0.764464</td>\n",
       "      <td>3.283553</td>\n",
       "      <td>3.402909</td>\n",
       "      <td>1.915897</td>\n",
       "      <td>1.451707</td>\n",
       "      <td>...</td>\n",
       "      <td>0.133984</td>\n",
       "      <td>-0.249939</td>\n",
       "      <td>-0.550021</td>\n",
       "      <td>3.394275</td>\n",
       "      <td>3.893397</td>\n",
       "      <td>1.989588</td>\n",
       "      <td>2.175786</td>\n",
       "      <td>6.046041</td>\n",
       "      <td>4.935010</td>\n",
       "      <td>1</td>\n",
       "    </tr>\n",
       "    <tr>\n",
       "      <th>4</th>\n",
       "      <td>4</td>\n",
       "      <td>84358402</td>\n",
       "      <td>1.750297</td>\n",
       "      <td>-1.151816</td>\n",
       "      <td>1.776573</td>\n",
       "      <td>1.826229</td>\n",
       "      <td>0.280372</td>\n",
       "      <td>0.539340</td>\n",
       "      <td>1.371011</td>\n",
       "      <td>1.428493</td>\n",
       "      <td>...</td>\n",
       "      <td>-1.466770</td>\n",
       "      <td>1.338539</td>\n",
       "      <td>1.220724</td>\n",
       "      <td>0.220556</td>\n",
       "      <td>-0.313395</td>\n",
       "      <td>0.613179</td>\n",
       "      <td>0.729259</td>\n",
       "      <td>-0.868353</td>\n",
       "      <td>-0.397100</td>\n",
       "      <td>1</td>\n",
       "    </tr>\n",
       "  </tbody>\n",
       "</table>\n",
       "<p>5 rows × 33 columns</p>\n",
       "</div>"
      ],
      "text/plain": [
       "   Unnamed: 0        id  radius_mean  texture_mean  perimeter_mean  area_mean  \\\n",
       "0           0    842302     1.097064     -2.073335        1.269934   0.984375   \n",
       "1           1    842517     1.829821     -0.353632        1.685955   1.908708   \n",
       "2           2  84300903     1.579888      0.456187        1.566503   1.558884   \n",
       "3           3  84348301    -0.768909      0.253732       -0.592687  -0.764464   \n",
       "4           4  84358402     1.750297     -1.151816        1.776573   1.826229   \n",
       "\n",
       "   smoothness_mean  compactness_mean  concavity_mean  concave points_mean  \\\n",
       "0         1.568466          3.283515        2.652874             2.532475   \n",
       "1        -0.826962         -0.487072       -0.023846             0.548144   \n",
       "2         0.942210          1.052926        1.363478             2.037231   \n",
       "3         3.283553          3.402909        1.915897             1.451707   \n",
       "4         0.280372          0.539340        1.371011             1.428493   \n",
       "\n",
       "   ...  texture_worst  perimeter_worst  area_worst  smoothness_worst  \\\n",
       "0  ...      -1.359293         2.303601    2.001237          1.307686   \n",
       "1  ...      -0.369203         1.535126    1.890489         -0.375612   \n",
       "2  ...      -0.023974         1.347475    1.456285          0.527407   \n",
       "3  ...       0.133984        -0.249939   -0.550021          3.394275   \n",
       "4  ...      -1.466770         1.338539    1.220724          0.220556   \n",
       "\n",
       "   compactness_worst  concavity_worst  concave points_worst  symmetry_worst  \\\n",
       "0           2.616665         2.109526              2.296076        2.750622   \n",
       "1          -0.430444        -0.146749              1.087084       -0.243890   \n",
       "2           1.082932         0.854974              1.955000        1.152255   \n",
       "3           3.893397         1.989588              2.175786        6.046041   \n",
       "4          -0.313395         0.613179              0.729259       -0.868353   \n",
       "\n",
       "   fractal_dimension_worst  diag_value  \n",
       "0                 1.937015           1  \n",
       "1                 0.281190           1  \n",
       "2                 0.201391           1  \n",
       "3                 4.935010           1  \n",
       "4                -0.397100           1  \n",
       "\n",
       "[5 rows x 33 columns]"
      ]
     },
     "execution_count": 5,
     "metadata": {},
     "output_type": "execute_result"
    }
   ],
   "source": [
    "# read in the csv file\n",
    "local_data = 'data/scaled.csv'\n",
    "\n",
    "# print out some data\n",
    "scaled_bc_df = pd.read_csv(local_data)\n",
    "print('Data shape (rows, cols): ', scaled_bc_df.shape)\n",
    "print()\n",
    "scaled_bc_df.head()"
   ]
  },
  {
   "cell_type": "code",
   "execution_count": 6,
   "metadata": {},
   "outputs": [
    {
     "data": {
      "text/html": [
       "<div>\n",
       "<style scoped>\n",
       "    .dataframe tbody tr th:only-of-type {\n",
       "        vertical-align: middle;\n",
       "    }\n",
       "\n",
       "    .dataframe tbody tr th {\n",
       "        vertical-align: top;\n",
       "    }\n",
       "\n",
       "    .dataframe thead th {\n",
       "        text-align: right;\n",
       "    }\n",
       "</style>\n",
       "<table border=\"1\" class=\"dataframe\">\n",
       "  <thead>\n",
       "    <tr style=\"text-align: right;\">\n",
       "      <th></th>\n",
       "      <th>id</th>\n",
       "      <th>radius_mean</th>\n",
       "      <th>texture_mean</th>\n",
       "      <th>perimeter_mean</th>\n",
       "      <th>area_mean</th>\n",
       "      <th>smoothness_mean</th>\n",
       "      <th>compactness_mean</th>\n",
       "      <th>concavity_mean</th>\n",
       "      <th>concave points_mean</th>\n",
       "      <th>symmetry_mean</th>\n",
       "      <th>...</th>\n",
       "      <th>texture_worst</th>\n",
       "      <th>perimeter_worst</th>\n",
       "      <th>area_worst</th>\n",
       "      <th>smoothness_worst</th>\n",
       "      <th>compactness_worst</th>\n",
       "      <th>concavity_worst</th>\n",
       "      <th>concave points_worst</th>\n",
       "      <th>symmetry_worst</th>\n",
       "      <th>fractal_dimension_worst</th>\n",
       "      <th>diag_value</th>\n",
       "    </tr>\n",
       "    <tr>\n",
       "      <th>id</th>\n",
       "      <th></th>\n",
       "      <th></th>\n",
       "      <th></th>\n",
       "      <th></th>\n",
       "      <th></th>\n",
       "      <th></th>\n",
       "      <th></th>\n",
       "      <th></th>\n",
       "      <th></th>\n",
       "      <th></th>\n",
       "      <th></th>\n",
       "      <th></th>\n",
       "      <th></th>\n",
       "      <th></th>\n",
       "      <th></th>\n",
       "      <th></th>\n",
       "      <th></th>\n",
       "      <th></th>\n",
       "      <th></th>\n",
       "      <th></th>\n",
       "      <th></th>\n",
       "    </tr>\n",
       "  </thead>\n",
       "  <tbody>\n",
       "    <tr>\n",
       "      <th>842302</th>\n",
       "      <td>842302</td>\n",
       "      <td>1.097064</td>\n",
       "      <td>-2.073335</td>\n",
       "      <td>1.269934</td>\n",
       "      <td>0.984375</td>\n",
       "      <td>1.568466</td>\n",
       "      <td>3.283515</td>\n",
       "      <td>2.652874</td>\n",
       "      <td>2.532475</td>\n",
       "      <td>2.217515</td>\n",
       "      <td>...</td>\n",
       "      <td>-1.359293</td>\n",
       "      <td>2.303601</td>\n",
       "      <td>2.001237</td>\n",
       "      <td>1.307686</td>\n",
       "      <td>2.616665</td>\n",
       "      <td>2.109526</td>\n",
       "      <td>2.296076</td>\n",
       "      <td>2.750622</td>\n",
       "      <td>1.937015</td>\n",
       "      <td>1</td>\n",
       "    </tr>\n",
       "    <tr>\n",
       "      <th>842517</th>\n",
       "      <td>842517</td>\n",
       "      <td>1.829821</td>\n",
       "      <td>-0.353632</td>\n",
       "      <td>1.685955</td>\n",
       "      <td>1.908708</td>\n",
       "      <td>-0.826962</td>\n",
       "      <td>-0.487072</td>\n",
       "      <td>-0.023846</td>\n",
       "      <td>0.548144</td>\n",
       "      <td>0.001392</td>\n",
       "      <td>...</td>\n",
       "      <td>-0.369203</td>\n",
       "      <td>1.535126</td>\n",
       "      <td>1.890489</td>\n",
       "      <td>-0.375612</td>\n",
       "      <td>-0.430444</td>\n",
       "      <td>-0.146749</td>\n",
       "      <td>1.087084</td>\n",
       "      <td>-0.243890</td>\n",
       "      <td>0.281190</td>\n",
       "      <td>1</td>\n",
       "    </tr>\n",
       "    <tr>\n",
       "      <th>84300903</th>\n",
       "      <td>84300903</td>\n",
       "      <td>1.579888</td>\n",
       "      <td>0.456187</td>\n",
       "      <td>1.566503</td>\n",
       "      <td>1.558884</td>\n",
       "      <td>0.942210</td>\n",
       "      <td>1.052926</td>\n",
       "      <td>1.363478</td>\n",
       "      <td>2.037231</td>\n",
       "      <td>0.939685</td>\n",
       "      <td>...</td>\n",
       "      <td>-0.023974</td>\n",
       "      <td>1.347475</td>\n",
       "      <td>1.456285</td>\n",
       "      <td>0.527407</td>\n",
       "      <td>1.082932</td>\n",
       "      <td>0.854974</td>\n",
       "      <td>1.955000</td>\n",
       "      <td>1.152255</td>\n",
       "      <td>0.201391</td>\n",
       "      <td>1</td>\n",
       "    </tr>\n",
       "    <tr>\n",
       "      <th>84348301</th>\n",
       "      <td>84348301</td>\n",
       "      <td>-0.768909</td>\n",
       "      <td>0.253732</td>\n",
       "      <td>-0.592687</td>\n",
       "      <td>-0.764464</td>\n",
       "      <td>3.283553</td>\n",
       "      <td>3.402909</td>\n",
       "      <td>1.915897</td>\n",
       "      <td>1.451707</td>\n",
       "      <td>2.867383</td>\n",
       "      <td>...</td>\n",
       "      <td>0.133984</td>\n",
       "      <td>-0.249939</td>\n",
       "      <td>-0.550021</td>\n",
       "      <td>3.394275</td>\n",
       "      <td>3.893397</td>\n",
       "      <td>1.989588</td>\n",
       "      <td>2.175786</td>\n",
       "      <td>6.046041</td>\n",
       "      <td>4.935010</td>\n",
       "      <td>1</td>\n",
       "    </tr>\n",
       "    <tr>\n",
       "      <th>84358402</th>\n",
       "      <td>84358402</td>\n",
       "      <td>1.750297</td>\n",
       "      <td>-1.151816</td>\n",
       "      <td>1.776573</td>\n",
       "      <td>1.826229</td>\n",
       "      <td>0.280372</td>\n",
       "      <td>0.539340</td>\n",
       "      <td>1.371011</td>\n",
       "      <td>1.428493</td>\n",
       "      <td>-0.009560</td>\n",
       "      <td>...</td>\n",
       "      <td>-1.466770</td>\n",
       "      <td>1.338539</td>\n",
       "      <td>1.220724</td>\n",
       "      <td>0.220556</td>\n",
       "      <td>-0.313395</td>\n",
       "      <td>0.613179</td>\n",
       "      <td>0.729259</td>\n",
       "      <td>-0.868353</td>\n",
       "      <td>-0.397100</td>\n",
       "      <td>1</td>\n",
       "    </tr>\n",
       "  </tbody>\n",
       "</table>\n",
       "<p>5 rows × 32 columns</p>\n",
       "</div>"
      ],
      "text/plain": [
       "                id  radius_mean  texture_mean  perimeter_mean  area_mean  \\\n",
       "id                                                                         \n",
       "842302      842302     1.097064     -2.073335        1.269934   0.984375   \n",
       "842517      842517     1.829821     -0.353632        1.685955   1.908708   \n",
       "84300903  84300903     1.579888      0.456187        1.566503   1.558884   \n",
       "84348301  84348301    -0.768909      0.253732       -0.592687  -0.764464   \n",
       "84358402  84358402     1.750297     -1.151816        1.776573   1.826229   \n",
       "\n",
       "          smoothness_mean  compactness_mean  concavity_mean  \\\n",
       "id                                                            \n",
       "842302           1.568466          3.283515        2.652874   \n",
       "842517          -0.826962         -0.487072       -0.023846   \n",
       "84300903         0.942210          1.052926        1.363478   \n",
       "84348301         3.283553          3.402909        1.915897   \n",
       "84358402         0.280372          0.539340        1.371011   \n",
       "\n",
       "          concave points_mean  symmetry_mean  ...  texture_worst  \\\n",
       "id                                            ...                  \n",
       "842302               2.532475       2.217515  ...      -1.359293   \n",
       "842517               0.548144       0.001392  ...      -0.369203   \n",
       "84300903             2.037231       0.939685  ...      -0.023974   \n",
       "84348301             1.451707       2.867383  ...       0.133984   \n",
       "84358402             1.428493      -0.009560  ...      -1.466770   \n",
       "\n",
       "          perimeter_worst  area_worst  smoothness_worst  compactness_worst  \\\n",
       "id                                                                           \n",
       "842302           2.303601    2.001237          1.307686           2.616665   \n",
       "842517           1.535126    1.890489         -0.375612          -0.430444   \n",
       "84300903         1.347475    1.456285          0.527407           1.082932   \n",
       "84348301        -0.249939   -0.550021          3.394275           3.893397   \n",
       "84358402         1.338539    1.220724          0.220556          -0.313395   \n",
       "\n",
       "          concavity_worst  concave points_worst  symmetry_worst  \\\n",
       "id                                                                \n",
       "842302           2.109526              2.296076        2.750622   \n",
       "842517          -0.146749              1.087084       -0.243890   \n",
       "84300903         0.854974              1.955000        1.152255   \n",
       "84348301         1.989588              2.175786        6.046041   \n",
       "84358402         0.613179              0.729259       -0.868353   \n",
       "\n",
       "          fractal_dimension_worst  diag_value  \n",
       "id                                             \n",
       "842302                   1.937015           1  \n",
       "842517                   0.281190           1  \n",
       "84300903                 0.201391           1  \n",
       "84348301                 4.935010           1  \n",
       "84358402                -0.397100           1  \n",
       "\n",
       "[5 rows x 32 columns]"
      ]
     },
     "execution_count": 6,
     "metadata": {},
     "output_type": "execute_result"
    }
   ],
   "source": [
    "scaled_bc_df = scaled_bc_df.drop('Unnamed: 0', axis = 1)\n",
    "scaled_bc_df.index=scaled_bc_df['id'] \n",
    "scaled_bc_df.head()"
   ]
  },
  {
   "cell_type": "markdown",
   "metadata": {},
   "source": [
    "#### create the features only dataset"
   ]
  },
  {
   "cell_type": "code",
   "execution_count": 7,
   "metadata": {},
   "outputs": [
    {
     "name": "stdout",
     "output_type": "stream",
     "text": [
      "Features shape (rows, cols):  (569, 30)\n"
     ]
    }
   ],
   "source": [
    "features_df = scaled_bc_df.drop(['id', 'diag_value'], axis = 1)\n",
    "print('Features shape (rows, cols): ', features_df.shape)"
   ]
  },
  {
   "cell_type": "code",
   "execution_count": 8,
   "metadata": {},
   "outputs": [
    {
     "data": {
      "text/html": [
       "<div>\n",
       "<style scoped>\n",
       "    .dataframe tbody tr th:only-of-type {\n",
       "        vertical-align: middle;\n",
       "    }\n",
       "\n",
       "    .dataframe tbody tr th {\n",
       "        vertical-align: top;\n",
       "    }\n",
       "\n",
       "    .dataframe thead th {\n",
       "        text-align: right;\n",
       "    }\n",
       "</style>\n",
       "<table border=\"1\" class=\"dataframe\">\n",
       "  <thead>\n",
       "    <tr style=\"text-align: right;\">\n",
       "      <th></th>\n",
       "      <th>radius_mean</th>\n",
       "      <th>texture_mean</th>\n",
       "      <th>perimeter_mean</th>\n",
       "      <th>area_mean</th>\n",
       "      <th>smoothness_mean</th>\n",
       "      <th>compactness_mean</th>\n",
       "      <th>concavity_mean</th>\n",
       "      <th>concave points_mean</th>\n",
       "      <th>symmetry_mean</th>\n",
       "      <th>fractal_dimension_mean</th>\n",
       "      <th>...</th>\n",
       "      <th>radius_worst</th>\n",
       "      <th>texture_worst</th>\n",
       "      <th>perimeter_worst</th>\n",
       "      <th>area_worst</th>\n",
       "      <th>smoothness_worst</th>\n",
       "      <th>compactness_worst</th>\n",
       "      <th>concavity_worst</th>\n",
       "      <th>concave points_worst</th>\n",
       "      <th>symmetry_worst</th>\n",
       "      <th>fractal_dimension_worst</th>\n",
       "    </tr>\n",
       "    <tr>\n",
       "      <th>id</th>\n",
       "      <th></th>\n",
       "      <th></th>\n",
       "      <th></th>\n",
       "      <th></th>\n",
       "      <th></th>\n",
       "      <th></th>\n",
       "      <th></th>\n",
       "      <th></th>\n",
       "      <th></th>\n",
       "      <th></th>\n",
       "      <th></th>\n",
       "      <th></th>\n",
       "      <th></th>\n",
       "      <th></th>\n",
       "      <th></th>\n",
       "      <th></th>\n",
       "      <th></th>\n",
       "      <th></th>\n",
       "      <th></th>\n",
       "      <th></th>\n",
       "      <th></th>\n",
       "    </tr>\n",
       "  </thead>\n",
       "  <tbody>\n",
       "    <tr>\n",
       "      <th>842302</th>\n",
       "      <td>1.097064</td>\n",
       "      <td>-2.073335</td>\n",
       "      <td>1.269934</td>\n",
       "      <td>0.984375</td>\n",
       "      <td>1.568466</td>\n",
       "      <td>3.283515</td>\n",
       "      <td>2.652874</td>\n",
       "      <td>2.532475</td>\n",
       "      <td>2.217515</td>\n",
       "      <td>2.255747</td>\n",
       "      <td>...</td>\n",
       "      <td>1.886690</td>\n",
       "      <td>-1.359293</td>\n",
       "      <td>2.303601</td>\n",
       "      <td>2.001237</td>\n",
       "      <td>1.307686</td>\n",
       "      <td>2.616665</td>\n",
       "      <td>2.109526</td>\n",
       "      <td>2.296076</td>\n",
       "      <td>2.750622</td>\n",
       "      <td>1.937015</td>\n",
       "    </tr>\n",
       "    <tr>\n",
       "      <th>842517</th>\n",
       "      <td>1.829821</td>\n",
       "      <td>-0.353632</td>\n",
       "      <td>1.685955</td>\n",
       "      <td>1.908708</td>\n",
       "      <td>-0.826962</td>\n",
       "      <td>-0.487072</td>\n",
       "      <td>-0.023846</td>\n",
       "      <td>0.548144</td>\n",
       "      <td>0.001392</td>\n",
       "      <td>-0.868652</td>\n",
       "      <td>...</td>\n",
       "      <td>1.805927</td>\n",
       "      <td>-0.369203</td>\n",
       "      <td>1.535126</td>\n",
       "      <td>1.890489</td>\n",
       "      <td>-0.375612</td>\n",
       "      <td>-0.430444</td>\n",
       "      <td>-0.146749</td>\n",
       "      <td>1.087084</td>\n",
       "      <td>-0.243890</td>\n",
       "      <td>0.281190</td>\n",
       "    </tr>\n",
       "    <tr>\n",
       "      <th>84300903</th>\n",
       "      <td>1.579888</td>\n",
       "      <td>0.456187</td>\n",
       "      <td>1.566503</td>\n",
       "      <td>1.558884</td>\n",
       "      <td>0.942210</td>\n",
       "      <td>1.052926</td>\n",
       "      <td>1.363478</td>\n",
       "      <td>2.037231</td>\n",
       "      <td>0.939685</td>\n",
       "      <td>-0.398008</td>\n",
       "      <td>...</td>\n",
       "      <td>1.511870</td>\n",
       "      <td>-0.023974</td>\n",
       "      <td>1.347475</td>\n",
       "      <td>1.456285</td>\n",
       "      <td>0.527407</td>\n",
       "      <td>1.082932</td>\n",
       "      <td>0.854974</td>\n",
       "      <td>1.955000</td>\n",
       "      <td>1.152255</td>\n",
       "      <td>0.201391</td>\n",
       "    </tr>\n",
       "    <tr>\n",
       "      <th>84348301</th>\n",
       "      <td>-0.768909</td>\n",
       "      <td>0.253732</td>\n",
       "      <td>-0.592687</td>\n",
       "      <td>-0.764464</td>\n",
       "      <td>3.283553</td>\n",
       "      <td>3.402909</td>\n",
       "      <td>1.915897</td>\n",
       "      <td>1.451707</td>\n",
       "      <td>2.867383</td>\n",
       "      <td>4.910919</td>\n",
       "      <td>...</td>\n",
       "      <td>-0.281464</td>\n",
       "      <td>0.133984</td>\n",
       "      <td>-0.249939</td>\n",
       "      <td>-0.550021</td>\n",
       "      <td>3.394275</td>\n",
       "      <td>3.893397</td>\n",
       "      <td>1.989588</td>\n",
       "      <td>2.175786</td>\n",
       "      <td>6.046041</td>\n",
       "      <td>4.935010</td>\n",
       "    </tr>\n",
       "    <tr>\n",
       "      <th>84358402</th>\n",
       "      <td>1.750297</td>\n",
       "      <td>-1.151816</td>\n",
       "      <td>1.776573</td>\n",
       "      <td>1.826229</td>\n",
       "      <td>0.280372</td>\n",
       "      <td>0.539340</td>\n",
       "      <td>1.371011</td>\n",
       "      <td>1.428493</td>\n",
       "      <td>-0.009560</td>\n",
       "      <td>-0.562450</td>\n",
       "      <td>...</td>\n",
       "      <td>1.298575</td>\n",
       "      <td>-1.466770</td>\n",
       "      <td>1.338539</td>\n",
       "      <td>1.220724</td>\n",
       "      <td>0.220556</td>\n",
       "      <td>-0.313395</td>\n",
       "      <td>0.613179</td>\n",
       "      <td>0.729259</td>\n",
       "      <td>-0.868353</td>\n",
       "      <td>-0.397100</td>\n",
       "    </tr>\n",
       "  </tbody>\n",
       "</table>\n",
       "<p>5 rows × 30 columns</p>\n",
       "</div>"
      ],
      "text/plain": [
       "          radius_mean  texture_mean  perimeter_mean  area_mean  \\\n",
       "id                                                               \n",
       "842302       1.097064     -2.073335        1.269934   0.984375   \n",
       "842517       1.829821     -0.353632        1.685955   1.908708   \n",
       "84300903     1.579888      0.456187        1.566503   1.558884   \n",
       "84348301    -0.768909      0.253732       -0.592687  -0.764464   \n",
       "84358402     1.750297     -1.151816        1.776573   1.826229   \n",
       "\n",
       "          smoothness_mean  compactness_mean  concavity_mean  \\\n",
       "id                                                            \n",
       "842302           1.568466          3.283515        2.652874   \n",
       "842517          -0.826962         -0.487072       -0.023846   \n",
       "84300903         0.942210          1.052926        1.363478   \n",
       "84348301         3.283553          3.402909        1.915897   \n",
       "84358402         0.280372          0.539340        1.371011   \n",
       "\n",
       "          concave points_mean  symmetry_mean  fractal_dimension_mean  ...  \\\n",
       "id                                                                    ...   \n",
       "842302               2.532475       2.217515                2.255747  ...   \n",
       "842517               0.548144       0.001392               -0.868652  ...   \n",
       "84300903             2.037231       0.939685               -0.398008  ...   \n",
       "84348301             1.451707       2.867383                4.910919  ...   \n",
       "84358402             1.428493      -0.009560               -0.562450  ...   \n",
       "\n",
       "          radius_worst  texture_worst  perimeter_worst  area_worst  \\\n",
       "id                                                                   \n",
       "842302        1.886690      -1.359293         2.303601    2.001237   \n",
       "842517        1.805927      -0.369203         1.535126    1.890489   \n",
       "84300903      1.511870      -0.023974         1.347475    1.456285   \n",
       "84348301     -0.281464       0.133984        -0.249939   -0.550021   \n",
       "84358402      1.298575      -1.466770         1.338539    1.220724   \n",
       "\n",
       "          smoothness_worst  compactness_worst  concavity_worst  \\\n",
       "id                                                               \n",
       "842302            1.307686           2.616665         2.109526   \n",
       "842517           -0.375612          -0.430444        -0.146749   \n",
       "84300903          0.527407           1.082932         0.854974   \n",
       "84348301          3.394275           3.893397         1.989588   \n",
       "84358402          0.220556          -0.313395         0.613179   \n",
       "\n",
       "          concave points_worst  symmetry_worst  fractal_dimension_worst  \n",
       "id                                                                       \n",
       "842302                2.296076        2.750622                 1.937015  \n",
       "842517                1.087084       -0.243890                 0.281190  \n",
       "84300903              1.955000        1.152255                 0.201391  \n",
       "84348301              2.175786        6.046041                 4.935010  \n",
       "84358402              0.729259       -0.868353                -0.397100  \n",
       "\n",
       "[5 rows x 30 columns]"
      ]
     },
     "execution_count": 8,
     "metadata": {},
     "output_type": "execute_result"
    }
   ],
   "source": [
    "features_df.head()"
   ]
  },
  {
   "cell_type": "markdown",
   "metadata": {},
   "source": [
    "#### define the model"
   ]
  },
  {
   "cell_type": "code",
   "execution_count": 9,
   "metadata": {},
   "outputs": [
    {
     "name": "stdout",
     "output_type": "stream",
     "text": [
      "Training artifacts will be uploaded to: s3://sagemaker-eu-west-1-396358375665/bc_pca/\n"
     ]
    }
   ],
   "source": [
    "# define location to store model artifacts\n",
    "prefix = 'bc_pca'\n",
    "\n",
    "output_path='s3://{}/{}/'.format(bucket_name, prefix)\n",
    "\n",
    "print('Training artifacts will be uploaded to: {}'.format(output_path))"
   ]
  },
  {
   "cell_type": "code",
   "execution_count": 10,
   "metadata": {},
   "outputs": [],
   "source": [
    "# define a PCA model\n",
    "from sagemaker import PCA\n",
    "\n",
    "# this is current features - 1\n",
    "\n",
    "N_COMPONENTS=29\n",
    "\n",
    "pca_bc = PCA(role=role,\n",
    "             train_instance_count=1,\n",
    "             train_instance_type='ml.c4.xlarge',\n",
    "             output_path=output_path, # specified, above\n",
    "             num_components=N_COMPONENTS, \n",
    "             sagemaker_session=session)\n"
   ]
  },
  {
   "cell_type": "markdown",
   "metadata": {},
   "source": [
    "#### Convert the data into Recordset format"
   ]
  },
  {
   "cell_type": "code",
   "execution_count": 11,
   "metadata": {},
   "outputs": [],
   "source": [
    "# convert df to np array\n",
    "features_np = features_df.values.astype('float32')\n",
    "\n",
    "# convert to RecordSet format\n",
    "formatted_bc_data = pca_bc.record_set(features_np)"
   ]
  },
  {
   "cell_type": "markdown",
   "metadata": {},
   "source": [
    "#### Train the model"
   ]
  },
  {
   "cell_type": "code",
   "execution_count": 12,
   "metadata": {},
   "outputs": [
    {
     "name": "stderr",
     "output_type": "stream",
     "text": [
      "'get_image_uri' method will be deprecated in favor of 'ImageURIProvider' class in SageMaker Python SDK v2.\n",
      "'s3_input' class will be renamed to 'TrainingInput' in SageMaker Python SDK v2.\n",
      "'get_image_uri' method will be deprecated in favor of 'ImageURIProvider' class in SageMaker Python SDK v2.\n"
     ]
    },
    {
     "name": "stdout",
     "output_type": "stream",
     "text": [
      "2020-10-09 08:50:01 Starting - Starting the training job...\n",
      "2020-10-09 08:50:03 Starting - Launching requested ML instances......\n",
      "2020-10-09 08:51:04 Starting - Preparing the instances for training......\n",
      "2020-10-09 08:52:23 Downloading - Downloading input data...\n",
      "2020-10-09 08:52:59 Training - Training image download completed. Training in progress.\n",
      "2020-10-09 08:52:59 Uploading - Uploading generated training model.\u001b[34mDocker entrypoint called with argument(s): train\u001b[0m\n",
      "\u001b[34mRunning default environment configuration script\u001b[0m\n",
      "\u001b[34m[10/09/2020 08:52:56 INFO 140191918610240] Reading default configuration from /opt/amazon/lib/python2.7/site-packages/algorithm/resources/default-conf.json: {u'_num_gpus': u'auto', u'_log_level': u'info', u'subtract_mean': u'true', u'force_dense': u'true', u'epochs': 1, u'algorithm_mode': u'regular', u'extra_components': u'-1', u'_kvstore': u'dist_sync', u'_num_kv_servers': u'auto'}\u001b[0m\n",
      "\u001b[34m[10/09/2020 08:52:56 INFO 140191918610240] Merging with provided configuration from /opt/ml/input/config/hyperparameters.json: {u'feature_dim': u'30', u'mini_batch_size': u'500', u'num_components': u'29'}\u001b[0m\n",
      "\u001b[34m[10/09/2020 08:52:56 INFO 140191918610240] Final configuration: {u'num_components': u'29', u'_num_gpus': u'auto', u'_log_level': u'info', u'subtract_mean': u'true', u'force_dense': u'true', u'epochs': 1, u'algorithm_mode': u'regular', u'feature_dim': u'30', u'extra_components': u'-1', u'_kvstore': u'dist_sync', u'_num_kv_servers': u'auto', u'mini_batch_size': u'500'}\u001b[0m\n",
      "\u001b[34m[10/09/2020 08:52:56 WARNING 140191918610240] Loggers have already been setup.\u001b[0m\n",
      "\u001b[34m[10/09/2020 08:52:56 INFO 140191918610240] Launching parameter server for role scheduler\u001b[0m\n",
      "\u001b[34m[10/09/2020 08:52:56 INFO 140191918610240] {'ECS_CONTAINER_METADATA_URI': 'http://169.254.170.2/v3/fa364785-a0c2-44d5-a753-3721a2bd516c', 'ECS_CONTAINER_METADATA_URI_V4': 'http://169.254.170.2/v4/fa364785-a0c2-44d5-a753-3721a2bd516c', 'PROTOCOL_BUFFERS_PYTHON_IMPLEMENTATION_VERSION': '2', 'PATH': '/opt/amazon/bin:/usr/local/nvidia/bin:/usr/local/sbin:/usr/local/bin:/usr/sbin:/usr/bin:/sbin:/bin:/opt/amazon/bin:/opt/amazon/bin', 'SAGEMAKER_HTTP_PORT': '8080', 'HOME': '/root', 'PYTHONUNBUFFERED': 'TRUE', 'CANONICAL_ENVROOT': '/opt/amazon', 'LD_LIBRARY_PATH': '/opt/amazon/lib/python2.7/site-packages/cv2/../../../../lib:/usr/local/nvidia/lib64:/opt/amazon/lib', 'LANG': 'en_US.utf8', 'DMLC_INTERFACE': 'eth0', 'SHLVL': '1', 'AWS_REGION': 'eu-west-1', 'NVIDIA_VISIBLE_DEVICES': 'void', 'TRAINING_JOB_NAME': 'pca-2020-10-09-08-50-00-981', 'PROTOCOL_BUFFERS_PYTHON_IMPLEMENTATION': 'cpp', 'ENVROOT': '/opt/amazon', 'SAGEMAKER_DATA_PATH': '/opt/ml', 'NVIDIA_DRIVER_CAPABILITIES': 'compute,utility', 'NVIDIA_REQUIRE_CUDA': 'cuda>=9.0', 'OMP_NUM_THREADS': '2', 'HOSTNAME': 'ip-10-0-88-241.eu-west-1.compute.internal', 'AWS_CONTAINER_CREDENTIALS_RELATIVE_URI': '/v2/credentials/d38ff6b8-2ce7-47a0-aae1-4ffebb45fae4', 'PWD': '/', 'TRAINING_JOB_ARN': 'arn:aws:sagemaker:eu-west-1:396358375665:training-job/pca-2020-10-09-08-50-00-981', 'AWS_EXECUTION_ENV': 'AWS_ECS_EC2'}\u001b[0m\n",
      "\u001b[34m[10/09/2020 08:52:56 INFO 140191918610240] envs={'ECS_CONTAINER_METADATA_URI': 'http://169.254.170.2/v3/fa364785-a0c2-44d5-a753-3721a2bd516c', 'ECS_CONTAINER_METADATA_URI_V4': 'http://169.254.170.2/v4/fa364785-a0c2-44d5-a753-3721a2bd516c', 'PROTOCOL_BUFFERS_PYTHON_IMPLEMENTATION_VERSION': '2', 'DMLC_NUM_WORKER': '1', 'DMLC_PS_ROOT_PORT': '9000', 'PATH': '/opt/amazon/bin:/usr/local/nvidia/bin:/usr/local/sbin:/usr/local/bin:/usr/sbin:/usr/bin:/sbin:/bin:/opt/amazon/bin:/opt/amazon/bin', 'SAGEMAKER_HTTP_PORT': '8080', 'HOME': '/root', 'PYTHONUNBUFFERED': 'TRUE', 'CANONICAL_ENVROOT': '/opt/amazon', 'LD_LIBRARY_PATH': '/opt/amazon/lib/python2.7/site-packages/cv2/../../../../lib:/usr/local/nvidia/lib64:/opt/amazon/lib', 'LANG': 'en_US.utf8', 'DMLC_INTERFACE': 'eth0', 'SHLVL': '1', 'DMLC_PS_ROOT_URI': '10.0.88.241', 'AWS_REGION': 'eu-west-1', 'NVIDIA_VISIBLE_DEVICES': 'void', 'TRAINING_JOB_NAME': 'pca-2020-10-09-08-50-00-981', 'PROTOCOL_BUFFERS_PYTHON_IMPLEMENTATION': 'cpp', 'ENVROOT': '/opt/amazon', 'SAGEMAKER_DATA_PATH': '/opt/ml', 'NVIDIA_DRIVER_CAPABILITIES': 'compute,utility', 'NVIDIA_REQUIRE_CUDA': 'cuda>=9.0', 'OMP_NUM_THREADS': '2', 'HOSTNAME': 'ip-10-0-88-241.eu-west-1.compute.internal', 'AWS_CONTAINER_CREDENTIALS_RELATIVE_URI': '/v2/credentials/d38ff6b8-2ce7-47a0-aae1-4ffebb45fae4', 'DMLC_ROLE': 'scheduler', 'PWD': '/', 'DMLC_NUM_SERVER': '1', 'TRAINING_JOB_ARN': 'arn:aws:sagemaker:eu-west-1:396358375665:training-job/pca-2020-10-09-08-50-00-981', 'AWS_EXECUTION_ENV': 'AWS_ECS_EC2'}\u001b[0m\n",
      "\u001b[34m[10/09/2020 08:52:56 INFO 140191918610240] Launching parameter server for role server\u001b[0m\n",
      "\u001b[34m[10/09/2020 08:52:56 INFO 140191918610240] {'ECS_CONTAINER_METADATA_URI': 'http://169.254.170.2/v3/fa364785-a0c2-44d5-a753-3721a2bd516c', 'ECS_CONTAINER_METADATA_URI_V4': 'http://169.254.170.2/v4/fa364785-a0c2-44d5-a753-3721a2bd516c', 'PROTOCOL_BUFFERS_PYTHON_IMPLEMENTATION_VERSION': '2', 'PATH': '/opt/amazon/bin:/usr/local/nvidia/bin:/usr/local/sbin:/usr/local/bin:/usr/sbin:/usr/bin:/sbin:/bin:/opt/amazon/bin:/opt/amazon/bin', 'SAGEMAKER_HTTP_PORT': '8080', 'HOME': '/root', 'PYTHONUNBUFFERED': 'TRUE', 'CANONICAL_ENVROOT': '/opt/amazon', 'LD_LIBRARY_PATH': '/opt/amazon/lib/python2.7/site-packages/cv2/../../../../lib:/usr/local/nvidia/lib64:/opt/amazon/lib', 'LANG': 'en_US.utf8', 'DMLC_INTERFACE': 'eth0', 'SHLVL': '1', 'AWS_REGION': 'eu-west-1', 'NVIDIA_VISIBLE_DEVICES': 'void', 'TRAINING_JOB_NAME': 'pca-2020-10-09-08-50-00-981', 'PROTOCOL_BUFFERS_PYTHON_IMPLEMENTATION': 'cpp', 'ENVROOT': '/opt/amazon', 'SAGEMAKER_DATA_PATH': '/opt/ml', 'NVIDIA_DRIVER_CAPABILITIES': 'compute,utility', 'NVIDIA_REQUIRE_CUDA': 'cuda>=9.0', 'OMP_NUM_THREADS': '2', 'HOSTNAME': 'ip-10-0-88-241.eu-west-1.compute.internal', 'AWS_CONTAINER_CREDENTIALS_RELATIVE_URI': '/v2/credentials/d38ff6b8-2ce7-47a0-aae1-4ffebb45fae4', 'PWD': '/', 'TRAINING_JOB_ARN': 'arn:aws:sagemaker:eu-west-1:396358375665:training-job/pca-2020-10-09-08-50-00-981', 'AWS_EXECUTION_ENV': 'AWS_ECS_EC2'}\u001b[0m\n",
      "\u001b[34m[10/09/2020 08:52:56 INFO 140191918610240] envs={'ECS_CONTAINER_METADATA_URI': 'http://169.254.170.2/v3/fa364785-a0c2-44d5-a753-3721a2bd516c', 'ECS_CONTAINER_METADATA_URI_V4': 'http://169.254.170.2/v4/fa364785-a0c2-44d5-a753-3721a2bd516c', 'PROTOCOL_BUFFERS_PYTHON_IMPLEMENTATION_VERSION': '2', 'DMLC_NUM_WORKER': '1', 'DMLC_PS_ROOT_PORT': '9000', 'PATH': '/opt/amazon/bin:/usr/local/nvidia/bin:/usr/local/sbin:/usr/local/bin:/usr/sbin:/usr/bin:/sbin:/bin:/opt/amazon/bin:/opt/amazon/bin', 'SAGEMAKER_HTTP_PORT': '8080', 'HOME': '/root', 'PYTHONUNBUFFERED': 'TRUE', 'CANONICAL_ENVROOT': '/opt/amazon', 'LD_LIBRARY_PATH': '/opt/amazon/lib/python2.7/site-packages/cv2/../../../../lib:/usr/local/nvidia/lib64:/opt/amazon/lib', 'LANG': 'en_US.utf8', 'DMLC_INTERFACE': 'eth0', 'SHLVL': '1', 'DMLC_PS_ROOT_URI': '10.0.88.241', 'AWS_REGION': 'eu-west-1', 'NVIDIA_VISIBLE_DEVICES': 'void', 'TRAINING_JOB_NAME': 'pca-2020-10-09-08-50-00-981', 'PROTOCOL_BUFFERS_PYTHON_IMPLEMENTATION': 'cpp', 'ENVROOT': '/opt/amazon', 'SAGEMAKER_DATA_PATH': '/opt/ml', 'NVIDIA_DRIVER_CAPABILITIES': 'compute,utility', 'NVIDIA_REQUIRE_CUDA': 'cuda>=9.0', 'OMP_NUM_THREADS': '2', 'HOSTNAME': 'ip-10-0-88-241.eu-west-1.compute.internal', 'AWS_CONTAINER_CREDENTIALS_RELATIVE_URI': '/v2/credentials/d38ff6b8-2ce7-47a0-aae1-4ffebb45fae4', 'DMLC_ROLE': 'server', 'PWD': '/', 'DMLC_NUM_SERVER': '1', 'TRAINING_JOB_ARN': 'arn:aws:sagemaker:eu-west-1:396358375665:training-job/pca-2020-10-09-08-50-00-981', 'AWS_EXECUTION_ENV': 'AWS_ECS_EC2'}\u001b[0m\n",
      "\u001b[34m[10/09/2020 08:52:56 INFO 140191918610240] Environment: {'ECS_CONTAINER_METADATA_URI': 'http://169.254.170.2/v3/fa364785-a0c2-44d5-a753-3721a2bd516c', 'ECS_CONTAINER_METADATA_URI_V4': 'http://169.254.170.2/v4/fa364785-a0c2-44d5-a753-3721a2bd516c', 'PROTOCOL_BUFFERS_PYTHON_IMPLEMENTATION_VERSION': '2', 'DMLC_PS_ROOT_PORT': '9000', 'DMLC_NUM_WORKER': '1', 'SAGEMAKER_HTTP_PORT': '8080', 'PATH': '/opt/amazon/bin:/usr/local/nvidia/bin:/usr/local/sbin:/usr/local/bin:/usr/sbin:/usr/bin:/sbin:/bin:/opt/amazon/bin:/opt/amazon/bin', 'PYTHONUNBUFFERED': 'TRUE', 'CANONICAL_ENVROOT': '/opt/amazon', 'LD_LIBRARY_PATH': '/opt/amazon/lib/python2.7/site-packages/cv2/../../../../lib:/usr/local/nvidia/lib64:/opt/amazon/lib', 'LANG': 'en_US.utf8', 'DMLC_INTERFACE': 'eth0', 'SHLVL': '1', 'DMLC_PS_ROOT_URI': '10.0.88.241', 'AWS_REGION': 'eu-west-1', 'NVIDIA_VISIBLE_DEVICES': 'void', 'TRAINING_JOB_NAME': 'pca-2020-10-09-08-50-00-981', 'HOME': '/root', 'PROTOCOL_BUFFERS_PYTHON_IMPLEMENTATION': 'cpp', 'ENVROOT': '/opt/amazon', 'SAGEMAKER_DATA_PATH': '/opt/ml', 'NVIDIA_DRIVER_CAPABILITIES': 'compute,utility', 'NVIDIA_REQUIRE_CUDA': 'cuda>=9.0', 'OMP_NUM_THREADS': '2', 'HOSTNAME': 'ip-10-0-88-241.eu-west-1.compute.internal', 'AWS_CONTAINER_CREDENTIALS_RELATIVE_URI': '/v2/credentials/d38ff6b8-2ce7-47a0-aae1-4ffebb45fae4', 'DMLC_ROLE': 'worker', 'PWD': '/', 'DMLC_NUM_SERVER': '1', 'TRAINING_JOB_ARN': 'arn:aws:sagemaker:eu-west-1:396358375665:training-job/pca-2020-10-09-08-50-00-981', 'AWS_EXECUTION_ENV': 'AWS_ECS_EC2'}\u001b[0m\n",
      "\u001b[34mProcess 60 is a shell:scheduler.\u001b[0m\n",
      "\u001b[34mProcess 69 is a shell:server.\u001b[0m\n",
      "\u001b[34mProcess 1 is a worker.\u001b[0m\n",
      "\u001b[34m[10/09/2020 08:52:56 INFO 140191918610240] Using default worker.\u001b[0m\n",
      "\u001b[34m[10/09/2020 08:52:56 INFO 140191918610240] Loaded iterator creator application/x-recordio-protobuf for content type ('application/x-recordio-protobuf', '1.0')\u001b[0m\n",
      "\u001b[34m[10/09/2020 08:52:56 INFO 140191918610240] Loaded iterator creator application/x-labeled-vector-protobuf for content type ('application/x-labeled-vector-protobuf', '1.0')\u001b[0m\n",
      "\u001b[34m[10/09/2020 08:52:56 INFO 140191918610240] Loaded iterator creator protobuf for content type ('protobuf', '1.0')\u001b[0m\n",
      "\u001b[34m[10/09/2020 08:52:57 INFO 140191918610240] Checkpoint loading and saving are disabled.\u001b[0m\n",
      "\u001b[34m[10/09/2020 08:52:57 INFO 140191918610240] Create Store: dist_sync\u001b[0m\n",
      "\u001b[34m[10/09/2020 08:52:57 INFO 140191918610240] nvidia-smi took: 0.0252299308777 secs to identify 0 gpus\u001b[0m\n",
      "\u001b[34m[10/09/2020 08:52:57 INFO 140191918610240] Number of GPUs being used: 0\u001b[0m\n",
      "\u001b[34m[10/09/2020 08:52:57 INFO 140191918610240] The default executor is <PCAExecutor on cpu(0)>.\u001b[0m\n",
      "\u001b[34m[10/09/2020 08:52:57 INFO 140191918610240] 30 feature(s) found in 'data'.\u001b[0m\n",
      "\u001b[34m[10/09/2020 08:52:57 INFO 140191918610240] <PCAExecutor on cpu(0)> is assigned to batch slice from 0 to 499.\u001b[0m\n",
      "\u001b[34m#metrics {\"Metrics\": {\"initialize.time\": {\"count\": 1, \"max\": 683.0840110778809, \"sum\": 683.0840110778809, \"min\": 683.0840110778809}}, \"EndTime\": 1602233577.694875, \"Dimensions\": {\"Host\": \"algo-1\", \"Operation\": \"training\", \"Algorithm\": \"PCA\"}, \"StartTime\": 1602233577.007846}\n",
      "\u001b[0m\n",
      "\u001b[34m#metrics {\"Metrics\": {\"Max Batches Seen Between Resets\": {\"count\": 1, \"max\": 0, \"sum\": 0.0, \"min\": 0}, \"Number of Batches Since Last Reset\": {\"count\": 1, \"max\": 0, \"sum\": 0.0, \"min\": 0}, \"Number of Records Since Last Reset\": {\"count\": 1, \"max\": 0, \"sum\": 0.0, \"min\": 0}, \"Total Batches Seen\": {\"count\": 1, \"max\": 0, \"sum\": 0.0, \"min\": 0}, \"Total Records Seen\": {\"count\": 1, \"max\": 0, \"sum\": 0.0, \"min\": 0}, \"Max Records Seen Between Resets\": {\"count\": 1, \"max\": 0, \"sum\": 0.0, \"min\": 0}, \"Reset Count\": {\"count\": 1, \"max\": 0, \"sum\": 0.0, \"min\": 0}}, \"EndTime\": 1602233577.695108, \"Dimensions\": {\"Host\": \"algo-1\", \"Meta\": \"init_train_data_iter\", \"Operation\": \"training\", \"Algorithm\": \"PCA\"}, \"StartTime\": 1602233577.695072}\n",
      "\u001b[0m\n",
      "\u001b[34m[2020-10-09 08:52:57.695] [tensorio] [info] epoch_stats={\"data_pipeline\": \"/opt/ml/input/data/train\", \"epoch\": 0, \"duration\": 686, \"num_examples\": 1, \"num_bytes\": 74000}\u001b[0m\n",
      "\u001b[34m[2020-10-09 08:52:57.758] [tensorio] [info] epoch_stats={\"data_pipeline\": \"/opt/ml/input/data/train\", \"epoch\": 1, \"duration\": 52, \"num_examples\": 2, \"num_bytes\": 84212}\u001b[0m\n",
      "\u001b[34m#metrics {\"Metrics\": {\"epochs\": {\"count\": 1, \"max\": 1, \"sum\": 1.0, \"min\": 1}, \"update.time\": {\"count\": 1, \"max\": 63.118934631347656, \"sum\": 63.118934631347656, \"min\": 63.118934631347656}}, \"EndTime\": 1602233577.758644, \"Dimensions\": {\"Host\": \"algo-1\", \"Operation\": \"training\", \"Algorithm\": \"PCA\"}, \"StartTime\": 1602233577.694988}\n",
      "\u001b[0m\n",
      "\u001b[34m[10/09/2020 08:52:57 INFO 140191918610240] #progress_metric: host=algo-1, completed 100 % of epochs\u001b[0m\n",
      "\u001b[34m#metrics {\"Metrics\": {\"Max Batches Seen Between Resets\": {\"count\": 1, \"max\": 2, \"sum\": 2.0, \"min\": 2}, \"Number of Batches Since Last Reset\": {\"count\": 1, \"max\": 2, \"sum\": 2.0, \"min\": 2}, \"Number of Records Since Last Reset\": {\"count\": 1, \"max\": 569, \"sum\": 569.0, \"min\": 569}, \"Total Batches Seen\": {\"count\": 1, \"max\": 2, \"sum\": 2.0, \"min\": 2}, \"Total Records Seen\": {\"count\": 1, \"max\": 569, \"sum\": 569.0, \"min\": 569}, \"Max Records Seen Between Resets\": {\"count\": 1, \"max\": 569, \"sum\": 569.0, \"min\": 569}, \"Reset Count\": {\"count\": 1, \"max\": 1, \"sum\": 1.0, \"min\": 1}}, \"EndTime\": 1602233577.759503, \"Dimensions\": {\"Host\": \"algo-1\", \"Meta\": \"training_data_iter\", \"Operation\": \"training\", \"Algorithm\": \"PCA\", \"epoch\": 0}, \"StartTime\": 1602233577.69548}\n",
      "\u001b[0m\n",
      "\u001b[34m[10/09/2020 08:52:57 INFO 140191918610240] #throughput_metric: host=algo-1, train throughput=8867.21968909 records/second\u001b[0m\n",
      "\u001b[34m#metrics {\"Metrics\": {\"finalize.time\": {\"count\": 1, \"max\": 33.3859920501709, \"sum\": 33.3859920501709, \"min\": 33.3859920501709}}, \"EndTime\": 1602233577.793276, \"Dimensions\": {\"Host\": \"algo-1\", \"Operation\": \"training\", \"Algorithm\": \"PCA\"}, \"StartTime\": 1602233577.759109}\n",
      "\u001b[0m\n",
      "\u001b[34m[10/09/2020 08:52:57 INFO 140191918610240] Test data is not provided.\u001b[0m\n",
      "\u001b[34m#metrics {\"Metrics\": {\"totaltime\": {\"count\": 1, \"max\": 952.700138092041, \"sum\": 952.700138092041, \"min\": 952.700138092041}, \"setuptime\": {\"count\": 1, \"max\": 19.320964813232422, \"sum\": 19.320964813232422, \"min\": 19.320964813232422}}, \"EndTime\": 1602233577.803667, \"Dimensions\": {\"Host\": \"algo-1\", \"Operation\": \"training\", \"Algorithm\": \"PCA\"}, \"StartTime\": 1602233577.793355}\n",
      "\u001b[0m\n",
      "\n",
      "2020-10-09 08:53:05 Completed - Training job completed\n",
      "Training seconds: 42\n",
      "Billable seconds: 42\n",
      "CPU times: user 468 ms, sys: 17.9 ms, total: 486 ms\n",
      "Wall time: 3min 41s\n"
     ]
    }
   ],
   "source": [
    "%%time\n",
    "\n",
    "# train the PCA model on the formatted data\n",
    "pca_bc.fit(formatted_bc_data)"
   ]
  },
  {
   "cell_type": "markdown",
   "metadata": {},
   "source": [
    "#### check the model attributes"
   ]
  },
  {
   "cell_type": "code",
   "execution_count": 13,
   "metadata": {},
   "outputs": [
    {
     "name": "stdout",
     "output_type": "stream",
     "text": [
      "bc_pca/pca-2020-10-09-08-50-00-981/output/model.tar.gz\n"
     ]
    },
    {
     "data": {
      "text/plain": [
       "2304"
      ]
     },
     "execution_count": 13,
     "metadata": {},
     "output_type": "execute_result"
    }
   ],
   "source": [
    "# from the notebook or from a specific job in the AWS console\n",
    "training_job_name='pca-2020-10-09-08-50-00-981'\n",
    "\n",
    "# where the model is saved, by default\n",
    "model_key = os.path.join(prefix, training_job_name, 'output/model.tar.gz')\n",
    "print(model_key)\n",
    "\n",
    "# download and unzip model\n",
    "boto3.resource('s3').Bucket(bucket_name).download_file(model_key, 'model.tar.gz')\n",
    "\n",
    "# unzipping as model_algo-1\n",
    "os.system('tar -zxvf model.tar.gz')\n",
    "os.system('unzip model_algo-1')"
   ]
  },
  {
   "cell_type": "code",
   "execution_count": 14,
   "metadata": {},
   "outputs": [],
   "source": [
    "import mxnet as mx"
   ]
  },
  {
   "cell_type": "code",
   "execution_count": 15,
   "metadata": {},
   "outputs": [
    {
     "name": "stdout",
     "output_type": "stream",
     "text": [
      "{'s': \n",
      "[ 0.6527885   0.95096016  1.9815059   2.1570976   2.9679654   3.2052093\n",
      "  3.721546    3.9513304   4.1297145   4.210665    5.305917    5.471752\n",
      "  5.8136115   6.741065    7.318657    9.451905   11.718893   12.190194\n",
      " 12.932054   14.126024   15.401726   16.468004   19.601027   26.210417\n",
      " 30.62887    33.570587   40.04264    56.906773   86.93236   ]\n",
      "<NDArray 29 @cpu(0)>, 'v': \n",
      "[[ 2.11507991e-01  2.11173698e-01  1.31506681e-01  1.29473299e-01\n",
      "  -1.92302298e-02 -1.82578057e-01 -9.85514596e-02 -7.29291737e-02\n",
      "  -6.85682818e-02 -4.96994518e-02 -2.25383371e-01  1.46710292e-01\n",
      "   2.02924281e-01  1.50584459e-01 -5.11187688e-02 -5.95058687e-02\n",
      "   1.19670443e-02  5.10675386e-02  4.14713807e-02 -9.54863951e-02\n",
      "   2.23109767e-01 -7.45229097e-03  1.24088429e-01 -1.87408067e-02\n",
      "   3.77863571e-02 -4.14089598e-02  8.53122585e-03  2.33857140e-01\n",
      "  -2.18902439e-01]\n",
      " [-1.05339261e-02 -6.44833490e-05  1.73550323e-02  2.45579984e-02\n",
      "   8.47459361e-02  9.87880304e-02 -5.53710444e-04 -9.48001742e-02\n",
      "   4.48367715e-01 -2.44137958e-01 -2.97890455e-02 -4.11044434e-02\n",
      "  -3.87060083e-02  1.57841429e-01 -1.07922532e-01  2.15602517e-02\n",
      "   2.03461394e-01  2.54896104e-01 -3.02243620e-01 -2.40934163e-01\n",
      "  -1.12699352e-01  1.30674571e-01 -1.13995560e-02  3.21788713e-02\n",
      "  -4.94688749e-02  6.03049994e-01 -6.45499155e-02  5.97060919e-02\n",
      "  -1.03724577e-01]\n",
      " [ 3.83811653e-01  8.42993930e-02  1.15417160e-01  1.25271857e-01\n",
      "   2.70183142e-02 -1.16650462e-01 -4.02441286e-02 -7.51614049e-02\n",
      "  -6.97695017e-02 -1.76639855e-02 -2.39595294e-01  1.58317208e-01\n",
      "   1.94822535e-01  1.14454247e-01 -3.99031863e-02 -4.85138781e-02\n",
      "   4.41093147e-02  3.89259756e-02  1.67823434e-02 -8.63855556e-02\n",
      "   2.23739207e-01 -1.86873414e-02  1.14477098e-01 -1.73084494e-02\n",
      "   3.73746529e-02 -4.19830978e-02  9.31421667e-03  2.15181351e-01\n",
      "  -2.27537289e-01]\n",
      " [-4.22824591e-01 -2.72467822e-01 -4.66584712e-01 -3.62759858e-01\n",
      "  -2.10038647e-01  6.98474497e-02  7.77909253e-03 -9.75665376e-02\n",
      "  -1.84435751e-02 -9.01426673e-02  2.73219962e-02  2.66169250e-01\n",
      "   2.55704969e-01  1.32449508e-01  1.39671927e-02 -1.08310301e-02\n",
      "   6.73754439e-02  6.54373094e-02  1.10169396e-01 -7.49565512e-02\n",
      "   1.95586160e-01  3.46736610e-02  5.16535044e-02  1.88771554e-03\n",
      "   1.03312619e-02 -5.34337871e-02 -2.86995191e-02  2.31076702e-01\n",
      "  -2.20994979e-01]\n",
      " [-3.43426503e-03  1.47969660e-03 -6.96929395e-02  3.69979180e-02\n",
      "   2.89555900e-02  6.86969385e-02 -2.06633061e-02 -6.38250783e-02\n",
      "  -1.19492032e-01  1.71024892e-02  1.64567590e-01 -3.52226585e-01\n",
      "   1.67929783e-01  2.04612479e-01 -1.18142180e-01 -4.45064545e-01\n",
      "   4.55740206e-02  3.16727579e-01 -1.37021631e-01  6.92927167e-02\n",
      "  -6.42467244e-03 -2.88974643e-01  1.40668884e-01  2.86374569e-01\n",
      "  -3.65088493e-01 -1.59382790e-01  1.04291901e-01 -1.86113030e-01\n",
      "  -1.42589688e-01]\n",
      " [-4.10168655e-02 -5.45934634e-03 -9.77268144e-02 -2.62815893e-01\n",
      "   3.96621078e-01 -1.04136817e-01  5.23603819e-02  9.80821773e-02\n",
      "   1.92626342e-01  4.88685638e-01 -2.84221888e-01  7.79398577e-03\n",
      "  -2.03060936e-02 -1.70178697e-01  2.30899394e-01 -8.10096134e-03\n",
      "   2.29281142e-01 -1.04017831e-01 -3.08009982e-01 -1.29361618e-02\n",
      "   1.67841300e-01 -1.51396573e-01 -3.09185572e-02  1.41309090e-02\n",
      "   1.17039699e-02 -3.17945927e-02  7.40915462e-02 -1.51891604e-01\n",
      "  -2.39285350e-01]\n",
      " [-1.00045754e-02  4.55397815e-02 -3.64853054e-01  5.48848510e-01\n",
      "  -9.69776660e-02  4.47429866e-02  3.24860901e-01  1.85221255e-01\n",
      "   5.57064498e-03 -3.33890282e-02 -2.26740655e-03 -2.69674920e-02\n",
      "  -1.59656396e-03 -2.69470632e-01 -1.28283218e-01  1.89358935e-01\n",
      "   3.87090981e-01  6.56533763e-02  1.24190144e-01  1.35602206e-01\n",
      "  -4.05904986e-02 -7.28272647e-02  1.07520394e-01  9.34418570e-03\n",
      "   8.63754228e-02 -1.91227682e-02 -2.73383898e-03 -6.01653457e-02\n",
      "  -2.58400470e-01]\n",
      " [-4.21425002e-03 -8.88129231e-03  4.54729199e-01 -3.87607992e-01\n",
      "  -1.86453998e-01  8.40297341e-02 -5.14169186e-02  3.11848611e-01\n",
      "  -9.42681078e-03 -2.35407844e-01  1.54974267e-01 -8.28273743e-02\n",
      "   3.45091186e-02 -3.80464196e-01 -2.17098773e-01  2.44794786e-01\n",
      "   1.32137954e-01  4.25889231e-02 -7.24460259e-02 -8.05449113e-03\n",
      "   1.11971200e-01 -1.52322486e-01  1.50482237e-01  5.20499498e-02\n",
      "  -4.38610017e-02 -6.53359219e-02  2.55635437e-02  3.47675048e-02\n",
      "  -2.60853767e-01]\n",
      " [-7.56952725e-03  1.43358717e-03  1.51636088e-02  1.60454102e-02\n",
      "  -2.45829299e-02  1.93394441e-02 -5.12002371e-02  1.84053760e-02\n",
      "  -8.69383216e-02  2.60696635e-02  5.88096119e-02  1.73397005e-01\n",
      "  -1.91738397e-01  1.64661989e-01 -7.39625990e-02 -3.07389572e-02\n",
      "   1.89933255e-01 -2.88865387e-01  1.63054615e-01 -5.72069645e-01\n",
      "  -2.56039858e-01 -2.31531173e-01  9.38910842e-02 -3.56458455e-01\n",
      "  -3.05941463e-01 -6.71249777e-02  4.02399562e-02 -1.90348774e-01\n",
      "  -1.38166964e-01]\n",
      " [ 7.30157224e-03 -6.31264690e-03  1.01236582e-01  9.74124819e-02\n",
      "  -2.07220271e-01 -1.33261606e-01 -8.46831948e-02 -2.87871510e-01\n",
      "  -7.62726963e-02 -1.75637096e-01  5.81565127e-02  8.78692865e-02\n",
      "   5.02230152e-02  4.07938510e-02  5.17975628e-01  3.77079219e-01\n",
      "   1.06238820e-01  2.36358494e-01 -3.80486697e-02 -8.11032057e-02\n",
      "   1.23740979e-01 -1.77121490e-01 -2.95759976e-01  1.19430669e-01\n",
      "  -4.44243401e-02 -4.85867597e-02  2.25741137e-02 -3.66575480e-01\n",
      "  -6.43633530e-02]\n",
      " [ 1.18424334e-01 -1.92237288e-01 -2.12978691e-01 -4.99948896e-02\n",
      "  -1.74931675e-01 -5.58697939e-01 -2.64132500e-01  1.50269285e-01\n",
      "   8.63863677e-02 -9.08003971e-02 -1.75882265e-01 -2.36218348e-01\n",
      "  -1.39396191e-01 -5.89070208e-02 -1.10050924e-01 -1.03472965e-02\n",
      "  -6.81950301e-02 -1.66878179e-02 -2.53568776e-02  4.95475531e-02\n",
      "  -2.49984980e-01  2.25400086e-02 -3.12490046e-01  2.56032702e-02\n",
      "  -1.54456496e-01 -9.79412422e-02 -2.68481374e-01  1.05552137e-01\n",
      "  -2.05978781e-01]\n",
      " [-8.77665263e-03 -5.62159903e-03  1.00919874e-02  1.12380870e-02\n",
      "   5.69863543e-02  2.42676586e-02 -8.73066427e-04 -4.84565198e-02\n",
      "   2.17071638e-01 -7.16614053e-02 -3.60097215e-02 -9.85912699e-03\n",
      "   4.39630710e-02  3.45002525e-02  3.27528454e-02  1.08491629e-02\n",
      "  -1.68222710e-01 -3.06160152e-01  3.44944835e-01  2.89143026e-01\n",
      "   2.46645331e-01 -4.75412816e-01  9.07552987e-02  2.87473127e-02\n",
      "  -1.91650540e-01  3.59855503e-01 -3.74633640e-01 -8.99796784e-02\n",
      "  -1.74280275e-02]\n",
      " [-6.07598666e-03  2.63193041e-01 -4.16832156e-02 -1.03657909e-01\n",
      "   7.29296654e-02  5.16747892e-01  9.00795013e-02 -1.59353375e-01\n",
      "  -3.04952353e-01 -1.77246615e-01 -3.65702629e-01 -2.59289984e-02\n",
      "  -2.46330965e-02 -2.65167244e-02 -8.26821569e-03  4.55235168e-02\n",
      "  -3.78438719e-02 -1.01446778e-01 -1.67318359e-01  1.14508219e-01\n",
      "  -2.27154300e-01 -1.18966745e-02 -3.14640522e-01 -1.81068585e-03\n",
      "  -1.20990217e-01 -8.89924094e-02 -2.66645372e-01  8.94572288e-02\n",
      "  -2.11325914e-01]\n",
      " [-8.59290287e-02 -4.20586318e-02  3.13346386e-01  1.55330881e-01\n",
      "   1.31849200e-01 -2.24624388e-02  9.82188210e-02 -6.42283261e-02\n",
      "   1.92590848e-01  2.74197429e-01  4.16573644e-01  3.04908931e-01\n",
      "   3.34415853e-01 -4.11517583e-02 -4.60237935e-02 -8.35709870e-02\n",
      "   5.60651459e-02 -1.76790096e-02  5.16197830e-02  9.19276699e-02\n",
      "  -2.29159832e-01  8.58052745e-02 -3.46679091e-01  4.28639017e-02\n",
      "  -1.27574429e-01 -1.08205058e-01 -2.16006517e-01  1.52292624e-01\n",
      "  -2.02869639e-01]\n",
      " [ 1.77734450e-03  9.79282055e-03  9.05182958e-03  7.71799125e-03\n",
      "   3.12108435e-02  1.56305823e-02 -5.98155744e-02 -5.05477153e-02\n",
      "  -7.20982701e-02  9.00627002e-02  1.32617131e-02 -2.31259435e-01\n",
      "   1.39595196e-01  5.80383949e-02  1.85599532e-02  2.01152548e-01\n",
      "   1.50440961e-01 -2.94710189e-01  8.42059702e-02 -1.60884947e-01\n",
      "   1.41924888e-01  5.73410153e-01  2.44024202e-01  3.42917413e-01\n",
      "  -2.32065663e-01 -4.46641855e-02 -3.08838993e-01 -2.04430461e-01\n",
      "  -1.45314550e-02]\n",
      " [ 3.15755489e-03 -1.53962430e-02 -4.65404689e-02  4.97234538e-02\n",
      "   1.73165381e-01 -1.21776976e-01  9.10046697e-03  4.52892184e-02\n",
      "  -1.40389666e-01 -4.61097926e-01  2.42446676e-01  1.00474812e-01\n",
      "  -8.24795943e-03 -1.89830184e-01  1.68209672e-01 -4.91756290e-01\n",
      "   1.00402525e-02 -2.63456285e-01 -2.06885263e-01 -4.35048006e-02\n",
      "   1.45322487e-01  1.17460072e-01 -2.34634541e-02 -6.91974983e-02\n",
      "   2.79968143e-01  2.74693761e-02 -1.54779732e-01 -2.32715890e-01\n",
      "  -1.70393452e-01]\n",
      " [ 1.60776526e-02  5.81936585e-03  8.42336640e-02 -9.14503634e-02\n",
      "   1.59405656e-02  1.88206807e-01 -3.87547880e-01  2.05200166e-01\n",
      "   6.30470365e-02  6.69485778e-02 -1.26379550e-01 -1.96376903e-04\n",
      "   8.46160948e-02  1.25420988e-01  2.50471175e-01 -1.34585992e-01\n",
      "   1.58783540e-01  2.51147479e-01  3.49518150e-01  1.41275838e-01\n",
      "  -3.58106673e-01  6.05666302e-02  2.08823696e-01 -5.63432761e-02\n",
      "   3.53982061e-01 -1.31685624e-03 -1.76463753e-01 -1.97207287e-01\n",
      "  -1.53589785e-01]\n",
      " [-2.39407718e-02 -2.90067010e-02  1.11629069e-02  1.79450717e-02\n",
      "  -1.29548103e-01 -1.09669268e-01  3.51752281e-01  7.25565031e-02\n",
      "   3.43766175e-02  6.88655078e-02  1.21641671e-02  4.60546538e-02\n",
      "   1.08132370e-01  1.98810279e-01  6.20793365e-02  1.99666336e-01\n",
      "  -4.94026721e-01 -6.45879516e-03 -3.42375904e-01 -8.62404779e-02\n",
      "  -2.72520542e-01 -1.08319566e-01  3.69645923e-01  3.12244389e-02\n",
      "   1.95548087e-01 -7.40673393e-02 -2.24657565e-01 -1.30321547e-01\n",
      "  -1.83417395e-01]\n",
      " [-5.22389729e-03 -7.63613451e-03  1.99748371e-02  1.72695424e-02\n",
      "  -1.95146501e-02  3.22636683e-03 -4.23640460e-02  8.46533999e-02\n",
      "  -9.76989046e-02  1.07385792e-01  8.90375003e-02  1.87014058e-01\n",
      "  -2.74059832e-01  1.57712027e-01 -1.13384232e-01  4.68644015e-02\n",
      "   1.03329848e-02  3.20570856e-01 -1.87844694e-01  3.16529900e-01\n",
      "   3.04077059e-01  2.20149279e-01  8.03823471e-02 -4.90245581e-01\n",
      "  -2.52868831e-01 -4.40733545e-02 -2.88584262e-01 -1.83848009e-01\n",
      "  -4.24984209e-02]\n",
      " [-8.34037736e-03  1.97577029e-02  1.20391380e-02 -3.54874283e-02\n",
      "  -8.41712505e-02  7.51924962e-02  8.57901871e-02 -2.44703203e-01\n",
      "   6.28451332e-02  2.22344831e-01 -8.66008252e-02 -5.98222427e-02\n",
      "  -1.22732036e-01 -2.68554449e-01 -3.53231877e-01 -1.45652622e-01\n",
      "  -2.40458310e-01  2.76166379e-01  2.50624329e-01 -3.67541701e-01\n",
      "   2.13723108e-01  1.11682462e-02 -1.91394940e-01  5.31951524e-02\n",
      "   2.63297468e-01 -1.53047293e-02 -2.11503744e-01 -2.80092031e-01\n",
      "  -1.02568321e-01]\n",
      " [-6.35687947e-01  4.12701041e-01  1.78650707e-01  1.97076768e-01\n",
      "   7.07110539e-02 -1.56832471e-01 -5.56811094e-02  9.62962061e-02\n",
      "   7.29309255e-03 -5.62666263e-03 -1.36629706e-02 -2.16101468e-01\n",
      "  -2.40049779e-01  8.15603733e-02  1.66566744e-01 -2.31013391e-02\n",
      "  -1.37890592e-01  3.96798365e-02  1.05067208e-01 -7.73616359e-02\n",
      "   1.12141587e-01  4.26194593e-02  9.70998034e-03  2.90692435e-04\n",
      "  -4.40659653e-03 -1.54172517e-02  4.75069955e-02  2.19866395e-01\n",
      "  -2.27996647e-01]\n",
      " [ 1.72353238e-02 -3.92359099e-04 -2.14074403e-02 -3.64711694e-02\n",
      "  -1.18189581e-01 -1.18486255e-01 -8.92423280e-03  1.11111008e-01\n",
      "  -5.94438016e-01  3.00603747e-01  7.58675486e-02  5.84005155e-02\n",
      "   6.93648309e-02 -1.85557142e-01  1.01115547e-01 -5.34307435e-02\n",
      "  -8.01452547e-02  7.97975808e-02  1.31572457e-02 -2.95509696e-02\n",
      "  -1.03341155e-01  3.62515636e-02 -9.87072382e-03  5.00080734e-02\n",
      "  -9.28834081e-02  6.32807851e-01  4.22978289e-02  4.54673022e-02\n",
      "  -1.04469322e-01]\n",
      " [ 2.28546336e-02 -7.28682280e-01  2.41012320e-01  2.44121075e-01\n",
      "   1.18033312e-01  2.37114638e-01  6.33471683e-02 -1.72210019e-02\n",
      "  -9.20235515e-02  1.10049248e-02 -9.08133909e-02 -1.88544437e-01\n",
      "  -2.34163195e-01  5.48558459e-02  1.82754859e-01 -1.22191040e-02\n",
      "  -9.69658345e-02 -8.98769964e-03  5.10760807e-02 -5.05081825e-02\n",
      "   1.09614328e-01  3.05585377e-02  4.45774291e-04 -8.50100257e-03\n",
      "   7.45414943e-03 -1.38028068e-02  4.85465191e-02  1.99878424e-01\n",
      "  -2.36639678e-01]\n",
      " [ 4.44957972e-01  2.38917634e-01 -2.37145066e-01 -2.31381670e-01\n",
      "  -3.82901914e-02  1.44064263e-01  1.90889001e-01  9.69654620e-02\n",
      "   1.46789655e-01  6.00454882e-02  4.10045683e-01 -1.42064095e-01\n",
      "  -2.73402244e-01  9.06528905e-02  3.14993709e-01  6.68612774e-03\n",
      "  -1.01160623e-01  4.80888821e-02  1.84598640e-01 -6.99212328e-02\n",
      "   8.07325691e-02  7.93943033e-02 -6.78315982e-02  2.51643788e-02\n",
      "  -2.73909122e-02 -2.58947387e-02  1.19023230e-02  2.19351843e-01\n",
      "  -2.24870533e-01]\n",
      " [ 7.38549372e-03 -1.53610925e-03  4.08544205e-02 -1.25989662e-02\n",
      "  -4.79650795e-02 -1.09892925e-02  9.36869234e-02  6.82590529e-02\n",
      "   1.64848804e-01 -1.29725993e-01 -2.34517142e-01  5.01550376e-01\n",
      "  -2.78029770e-01 -1.45550460e-01  4.61245589e-02 -1.62235588e-01\n",
      "  -2.05129981e-01  5.65152094e-02  1.43890396e-01  1.28304675e-01\n",
      "  -1.12316020e-01  2.05852270e-01  1.08830877e-01  3.69255424e-01\n",
      "  -3.24435383e-01 -1.76522434e-02  2.59797633e-01 -1.72304347e-01\n",
      "  -1.27952561e-01]\n",
      " [ 7.70321731e-06  4.86929901e-02  7.04968870e-02  1.00469306e-01\n",
      "  -6.24384701e-01  1.86751574e-01 -1.47920683e-01 -2.96839960e-02\n",
      "   1.81374520e-01  2.29279459e-01 -2.01991852e-02 -7.35746026e-02\n",
      "  -4.03763773e-03  1.53735057e-01 -4.99554947e-02 -1.66470766e-01\n",
      "   1.22791771e-02 -3.71662557e-01 -1.97419912e-01  1.72133565e-01\n",
      "   1.00677319e-01  8.40197355e-02 -1.40472844e-01 -4.77057733e-02\n",
      "   1.21804073e-01  9.13284346e-02  2.36075625e-01 -1.43593177e-01\n",
      "  -2.10095882e-01]\n",
      " [-1.26791783e-02 -1.76401604e-02  1.42925516e-01 -2.66840905e-01\n",
      "   1.15770362e-01 -2.88857013e-01  2.86449283e-01 -4.60415661e-01\n",
      "  -1.32098168e-01 -4.64834645e-02  4.57844995e-02 -1.03908151e-01\n",
      "  -1.91313088e-01  2.15021491e-01 -2.04836011e-01  6.67987913e-02\n",
      "   2.17984647e-01 -8.70345533e-02  1.85016960e-01  3.11638296e-01\n",
      "  -1.61908567e-01  7.24680200e-02  6.04880005e-02 -2.83792578e-02\n",
      "   1.88518718e-01  7.39511847e-02  1.73057318e-01 -9.79641080e-02\n",
      "  -2.28767529e-01]\n",
      " [ 3.52450460e-02  2.24717315e-02 -2.30909854e-01  1.33553475e-01\n",
      "   2.63199955e-01  1.07339688e-01 -5.67517698e-01 -2.99858034e-01\n",
      "   8.85689515e-04  3.30256857e-02  2.60229856e-01  7.58157372e-02\n",
      "  -7.54872859e-02 -1.78141579e-01 -1.69500217e-01  2.76418209e-01\n",
      "  -2.54387558e-01 -6.81255385e-02 -1.17771946e-01  7.66485631e-02\n",
      "  -6.04887865e-02 -3.61707844e-02  1.67966515e-01  3.08734588e-02\n",
      "   4.33320813e-02 -6.00700034e-03  1.70344070e-01  8.25724285e-03\n",
      "  -2.50885963e-01]\n",
      " [ 1.34044150e-02  4.91947867e-03 -2.27885544e-02 -2.81861629e-02\n",
      "   4.52986881e-02 -1.43821640e-02  1.21344492e-01 -9.71414894e-02\n",
      "   1.62707999e-01 -1.16760448e-01 -1.17247716e-01 -2.78712541e-01\n",
      "   4.30659115e-01 -2.57894784e-01  1.39890090e-01 -5.35544939e-03\n",
      "  -2.56534785e-01  4.40340638e-02  1.57560050e-01  2.95631606e-02\n",
      "  -6.46378323e-02  2.28225216e-01  1.84906982e-02 -4.98926729e-01\n",
      "  -2.44558722e-01  3.62506844e-02  2.71312654e-01 -1.41883343e-01\n",
      "  -1.22904554e-01]\n",
      " [ 1.14754913e-02 -2.35637315e-02 -5.99848554e-02 -4.52572666e-03\n",
      "   2.80132234e-01  3.78276706e-02  7.61131058e-03  4.69471782e-01\n",
      "  -9.23449621e-02 -1.04991063e-01  1.14949988e-02  2.35618353e-02\n",
      "   1.59395069e-01  4.05556053e-01 -2.56173760e-01  2.12104335e-01\n",
      "  -1.72814667e-01 -3.47317792e-02  1.18283242e-01 -1.26095414e-02\n",
      "   1.34174362e-01  4.83608469e-02 -3.74657542e-01  8.02234709e-02\n",
      "   9.44233686e-02  7.70534873e-02  2.32791319e-01 -2.75339454e-01\n",
      "  -1.31783947e-01]]\n",
      "<NDArray 30x29 @cpu(0)>, 'mean': \n",
      "[[ 0.0000000e+00  3.3521066e-09  1.6760533e-09 -1.6760533e-09\n",
      "   0.0000000e+00  8.3802665e-10  8.3802665e-10 -1.6760533e-09\n",
      "  -2.5140798e-09  0.0000000e+00 -3.3521066e-09 -1.6760533e-09\n",
      "   0.0000000e+00 -1.6760533e-09  0.0000000e+00  8.3802665e-10\n",
      "   0.0000000e+00 -1.1522866e-09 -8.3802665e-10 -8.3802665e-10\n",
      "  -1.6760533e-09 -1.6760533e-09 -1.6760533e-09  0.0000000e+00\n",
      "   0.0000000e+00  8.3802665e-10  3.3521066e-09 -1.6760533e-09\n",
      "   3.3521066e-09  0.0000000e+00]]\n",
      "<NDArray 1x30 @cpu(0)>}\n"
     ]
    }
   ],
   "source": [
    "# loading the unzipped artifacts\n",
    "pca_model_params = mx.ndarray.load('model_algo-1')\n",
    "\n",
    "# what are the params\n",
    "print(pca_model_params)"
   ]
  },
  {
   "cell_type": "markdown",
   "metadata": {},
   "source": [
    "#### check on the variance to help select the number of components \n",
    "   the parament s gives the variance  \n",
    "   the paramter v gives the component detail\n",
    "    \n",
    "   In order get the highest variance you need to start at the end of s"
   ]
  },
  {
   "cell_type": "code",
   "execution_count": 16,
   "metadata": {},
   "outputs": [],
   "source": [
    "# get selected params\n",
    "s = pd.DataFrame(pca_model_params['s'].asnumpy())\n",
    "v = pd.DataFrame(pca_model_params['v'].asnumpy())"
   ]
  },
  {
   "cell_type": "markdown",
   "metadata": {},
   "source": [
    "#### calculate the explained variance\n",
    "\n",
    "to calculate the explained variance for the top N components, calculate s squared for *each* of the top N components, add those up and normalize by the sum of *all* squared s values, according to this formula:\n",
    "\n",
    "\\begin{equation*}\n",
    "\\frac{\\sum_{N}^{ } s_n^2}{\\sum s^2}\n",
    "\\end{equation*}"
   ]
  },
  {
   "cell_type": "code",
   "execution_count": 18,
   "metadata": {},
   "outputs": [],
   "source": [
    "def explained_variance(s, n_top_components):\n",
    "    '''Calculates the approx. data variance that n_top_components captures.\n",
    "       :param s: A dataframe of singular values for top components; \n",
    "           the top value is in the last row.\n",
    "       :param n_top_components: An integer, the number of top components to use.\n",
    "       :return: The expected data variance covered by the n_top_components.'''\n",
    "    \n",
    "    start_idx = N_COMPONENTS - n_top_components  ## 29-3 = 26, for example\n",
    "    # calculate approx variance\n",
    "    exp_variance = np.square(s.iloc[start_idx:,:]).sum()/np.square(s).sum()\n",
    "    \n",
    "    return exp_variance[0]"
   ]
  },
  {
   "cell_type": "code",
   "execution_count": 19,
   "metadata": {},
   "outputs": [
    {
     "name": "stdout",
     "output_type": "stream",
     "text": [
      "Top1 components explain 0.44272223 of the variance\n",
      "Top2 components explain 0.6324349 of the variance\n",
      "Top3 components explain 0.726367 of the variance\n",
      "Top4 components explain 0.7923886 of the variance\n",
      "Top5 components explain 0.84734654 of the variance\n",
      "Top6 components explain 0.88759196 of the variance\n",
      "Top7 components explain 0.9100994 of the variance\n",
      "Top8 components explain 0.92598665 of the variance\n",
      "Top9 components explain 0.9398833 of the variance\n",
      "Top10 components explain 0.951573 of the variance\n",
      "Top11 components explain 0.9613703 of the variance\n",
      "Top12 components explain 0.9700757 of the variance\n",
      "Top13 components explain 0.978121 of the variance\n",
      "Top14 components explain 0.9833546 of the variance\n",
      "Top15 components explain 0.98649246 of the variance\n",
      "Top16 components explain 0.9891547 of the variance\n",
      "Top17 components explain 0.9911346 of the variance\n",
      "Top18 components explain 0.9928886 of the variance\n",
      "Top19 components explain 0.9945379 of the variance\n",
      "Top20 components explain 0.99557644 of the variance\n",
      "Top21 components explain 0.99657553 of the variance\n",
      "Top22 components explain 0.9974902 of the variance\n",
      "Top23 components explain 0.99830157 of the variance\n",
      "Top24 components explain 0.9989035 of the variance\n",
      "Top25 components explain 0.99941957 of the variance\n",
      "Top26 components explain 0.9996921 of the variance\n",
      "Top27 components explain 0.9999221 of the variance\n",
      "Top28 components explain 0.9999751 of the variance\n",
      "Top29 components explain 1.0 of the variance\n"
     ]
    }
   ],
   "source": [
    "for i in range(N_COMPONENTS):\n",
    "    eVar = explained_variance(s,i+1)\n",
    "    print('Top' + str(i+1) + ' components explain ' + str(eVar) + ' of the variance')\n",
    "\n"
   ]
  },
  {
   "cell_type": "markdown",
   "metadata": {},
   "source": [
    "#### Component Makeup\n",
    "\n",
    "We can now examine the makeup of each PCA component based on **the weightings of the original features that are included in the component**."
   ]
  },
  {
   "cell_type": "code",
   "execution_count": 20,
   "metadata": {},
   "outputs": [
    {
     "name": "stdout",
     "output_type": "stream",
     "text": [
      "Features: \n",
      " ['radius_mean' 'texture_mean' 'perimeter_mean' 'area_mean'\n",
      " 'smoothness_mean' 'compactness_mean' 'concavity_mean'\n",
      " 'concave points_mean' 'symmetry_mean' 'fractal_dimension_mean'\n",
      " 'radius_se' 'texture_se' 'perimeter_se' 'area_se' 'smoothness_se'\n",
      " 'compactness_se' 'concavity_se' 'concave points_se' 'symmetry_se'\n",
      " 'fractal_dimension_se' 'radius_worst' 'texture_worst' 'perimeter_worst'\n",
      " 'area_worst' 'smoothness_worst' 'compactness_worst' 'concavity_worst'\n",
      " 'concave points_worst' 'symmetry_worst' 'fractal_dimension_worst']\n"
     ]
    }
   ],
   "source": [
    "# features\n",
    "features_list = features_df.columns.values\n",
    "print('Features: \\n', features_list)"
   ]
  },
  {
   "cell_type": "code",
   "execution_count": 21,
   "metadata": {},
   "outputs": [],
   "source": [
    "import seaborn as sns\n",
    "\n",
    "def display_component(v, features_list, component_num, n_weights=10):\n",
    "    \n",
    "    # get index of component (last row - component_num)\n",
    "    row_idx = N_COMPONENTS-component_num\n",
    "\n",
    "    # get the list of weights from a row in v, dataframe\n",
    "    v_1_row = v.iloc[:, row_idx]\n",
    "    v_1 = np.squeeze(v_1_row.values)\n",
    "\n",
    "    # match weights to features in counties_scaled dataframe, using list comporehension\n",
    "    comps = pd.DataFrame(list(zip(v_1, features_list)), \n",
    "                         columns=['weights', 'features'])\n",
    "\n",
    "    # we'll want to sort by the largest n_weights\n",
    "    # weights can be neg/pos and we'll sort by magnitude\n",
    "    comps['abs_weights']=comps['weights'].apply(lambda x: np.abs(x))\n",
    "    sorted_weight_data = comps.sort_values('abs_weights', ascending=False).head(n_weights)\n",
    "\n",
    "    # display using seaborn\n",
    "    ax=plt.subplots(figsize=(6,4))\n",
    "    ax=sns.barplot(data=sorted_weight_data, \n",
    "                   x=\"weights\", \n",
    "                   y=\"features\", \n",
    "                   palette=\"Blues_d\")\n",
    "    ax.set_title(\"PCA Component Makeup, Component #\" + str(component_num))\n",
    "    plt.show()"
   ]
  },
  {
   "cell_type": "markdown",
   "metadata": {},
   "source": [
    "The 7 top components explain 91% of the variance with a further 3 pushing this to 95%"
   ]
  },
  {
   "cell_type": "code",
   "execution_count": 22,
   "metadata": {},
   "outputs": [
    {
     "data": {
      "image/png": "[encoded data removed]",
      "text/plain": [
       "<Figure size 432x288 with 1 Axes>"
      ]
     },
     "metadata": {
      "needs_background": "light"
     },
     "output_type": "display_data"
    }
   ],
   "source": [
    "# display makeup of last component - most variance \n",
    "num=1\n",
    "display_component(v, features_list, component_num=num, n_weights=15)"
   ]
  },
  {
   "cell_type": "markdown",
   "metadata": {},
   "source": [
    "1. Concavity component"
   ]
  },
  {
   "cell_type": "code",
   "execution_count": 23,
   "metadata": {},
   "outputs": [
    {
     "data": {
      "image/png": "[encoded data removed]",
      "text/plain": [
       "<Figure size 432x288 with 1 Axes>"
      ]
     },
     "metadata": {
      "needs_background": "light"
     },
     "output_type": "display_data"
    }
   ],
   "source": [
    "num=2\n",
    "display_component(v, features_list, component_num=num, n_weights=15)"
   ]
  },
  {
   "cell_type": "markdown",
   "metadata": {},
   "source": [
    "2. Size and Jaggedness"
   ]
  },
  {
   "cell_type": "code",
   "execution_count": 24,
   "metadata": {},
   "outputs": [
    {
     "data": {
      "image/png": "[encoded data removed]",
      "text/plain": [
       "<Figure size 432x288 with 1 Axes>"
      ]
     },
     "metadata": {
      "needs_background": "light"
     },
     "output_type": "display_data"
    }
   ],
   "source": [
    "num=3\n",
    "display_component(v, features_list, component_num=num, n_weights=15)"
   ]
  },
  {
   "cell_type": "markdown",
   "metadata": {},
   "source": [
    "3. Smoothness and symmetry - variation to worst"
   ]
  },
  {
   "cell_type": "code",
   "execution_count": 25,
   "metadata": {},
   "outputs": [
    {
     "data": {
      "image/png": "[encoded data removed]",
      "text/plain": [
       "<Figure size 432x288 with 1 Axes>"
      ]
     },
     "metadata": {
      "needs_background": "light"
     },
     "output_type": "display_data"
    }
   ],
   "source": [
    "num=4\n",
    "display_component(v, features_list, component_num=num, n_weights=15)"
   ]
  },
  {
   "cell_type": "markdown",
   "metadata": {},
   "source": [
    "4. Texture"
   ]
  },
  {
   "cell_type": "code",
   "execution_count": 26,
   "metadata": {},
   "outputs": [
    {
     "data": {
      "image/png": "[encoded data removed]",
      "text/plain": [
       "<Figure size 432x288 with 1 Axes>"
      ]
     },
     "metadata": {
      "needs_background": "light"
     },
     "output_type": "display_data"
    }
   ],
   "source": [
    "num=5\n",
    "display_component(v, features_list, component_num=num, n_weights=15)"
   ]
  },
  {
   "cell_type": "markdown",
   "metadata": {},
   "source": [
    "5. Smooth and Symmetrical to concavity and compactness"
   ]
  },
  {
   "cell_type": "code",
   "execution_count": 27,
   "metadata": {},
   "outputs": [
    {
     "data": {
      "image/png": "[encoded data removed]",
      "text/plain": [
       "<Figure size 432x288 with 1 Axes>"
      ]
     },
     "metadata": {
      "needs_background": "light"
     },
     "output_type": "display_data"
    }
   ],
   "source": [
    "num=6\n",
    "display_component(v, features_list, component_num=num, n_weights=15)"
   ]
  },
  {
   "cell_type": "markdown",
   "metadata": {},
   "source": [
    "6. Symmetry to smootheness"
   ]
  },
  {
   "cell_type": "code",
   "execution_count": 28,
   "metadata": {},
   "outputs": [
    {
     "data": {
      "image/png": "[encoded data removed]",
      "text/plain": [
       "<Figure size 432x288 with 1 Axes>"
      ]
     },
     "metadata": {
      "needs_background": "light"
     },
     "output_type": "display_data"
    }
   ],
   "source": [
    "num=7\n",
    "display_component(v, features_list, component_num=num, n_weights=15)"
   ]
  },
  {
   "cell_type": "markdown",
   "metadata": {},
   "source": [
    "7. Irregularity"
   ]
  },
  {
   "cell_type": "code",
   "execution_count": 29,
   "metadata": {},
   "outputs": [
    {
     "data": {
      "image/png": "[encoded data removed]",
      "text/plain": [
       "<Figure size 432x288 with 1 Axes>"
      ]
     },
     "metadata": {
      "needs_background": "light"
     },
     "output_type": "display_data"
    }
   ],
   "source": [
    "num=8\n",
    "display_component(v, features_list, component_num=num, n_weights=15)"
   ]
  },
  {
   "cell_type": "markdown",
   "metadata": {},
   "source": [
    "8. Smoothness and symmetry - mean to variation"
   ]
  },
  {
   "cell_type": "code",
   "execution_count": 30,
   "metadata": {},
   "outputs": [
    {
     "data": {
      "image/png": "[encoded data removed]",
      "text/plain": [
       "<Figure size 432x288 with 1 Axes>"
      ]
     },
     "metadata": {
      "needs_background": "light"
     },
     "output_type": "display_data"
    }
   ],
   "source": [
    "num=9\n",
    "display_component(v, features_list, component_num=num, n_weights=15)"
   ]
  },
  {
   "cell_type": "markdown",
   "metadata": {},
   "source": [
    "9. Symmetry and concavity to size"
   ]
  },
  {
   "cell_type": "code",
   "execution_count": 31,
   "metadata": {},
   "outputs": [
    {
     "data": {
      "image/png": "[encoded data removed]",
      "text/plain": [
       "<Figure size 432x288 with 1 Axes>"
      ]
     },
     "metadata": {
      "needs_background": "light"
     },
     "output_type": "display_data"
    }
   ],
   "source": [
    "num=10\n",
    "display_component(v, features_list, component_num=num, n_weights=15)"
   ]
  },
  {
   "cell_type": "markdown",
   "metadata": {},
   "source": [
    "10. Symmetry, concavity and texture - mean to variance"
   ]
  },
  {
   "cell_type": "markdown",
   "metadata": {},
   "source": [
    "#### Deploy the model\n",
    "We will deploy to obtain components to the features dataset used to train the PCA"
   ]
  },
  {
   "cell_type": "code",
   "execution_count": 32,
   "metadata": {},
   "outputs": [
    {
     "name": "stderr",
     "output_type": "stream",
     "text": [
      "Parameter image will be renamed to image_uri in SageMaker Python SDK v2.\n"
     ]
    },
    {
     "name": "stdout",
     "output_type": "stream",
     "text": [
      "-----------------!CPU times: user 295 ms, sys: 25.5 ms, total: 320 ms\n",
      "Wall time: 8min 33s\n"
     ]
    }
   ],
   "source": [
    "%%time\n",
    "# this takes a little while, around 7mins\n",
    "pca_predictor = pca_bc.deploy(initial_instance_count=1, \n",
    "                              instance_type='ml.t2.medium')"
   ]
  },
  {
   "cell_type": "code",
   "execution_count": 33,
   "metadata": {},
   "outputs": [],
   "source": [
    "# pass np train data to the PCA model\n",
    "train_pca = pca_predictor.predict(features_np)"
   ]
  },
  {
   "cell_type": "code",
   "execution_count": 34,
   "metadata": {},
   "outputs": [
    {
     "name": "stdout",
     "output_type": "stream",
     "text": [
      "label {\n",
      "  key: \"projection\"\n",
      "  value {\n",
      "    float32_tensor {\n",
      "      values: 0.045646052807569504\n",
      "      values: -0.03391718864440918\n",
      "      values: 0.2525694966316223\n",
      "      values: 0.20152251422405243\n",
      "      values: 0.15101824700832367\n",
      "      values: 0.1752556711435318\n",
      "      values: 0.08452287316322327\n",
      "      values: -0.06884904205799103\n",
      "      values: 0.09651646018028259\n",
      "      values: 0.3455643355846405\n",
      "      values: -0.13376647233963013\n",
      "      values: -0.5495595932006836\n",
      "      values: -0.2654690146446228\n",
      "      values: -0.7451176643371582\n",
      "      values: 0.6017934679985046\n",
      "      values: 0.6908040046691895\n",
      "      values: 0.10338763892650604\n",
      "      values: -0.8590150475502014\n",
      "      values: 0.26295581459999084\n",
      "      values: 0.8774019479751587\n",
      "      values: 0.15711840987205505\n",
      "      values: -0.3984059691429138\n",
      "      values: -2.159369945526123\n",
      "      values: -1.4114243984222412\n",
      "      values: -1.1951102018356323\n",
      "      values: -3.633730888366699\n",
      "      values: 1.1231664419174194\n",
      "      values: -1.9485831260681152\n",
      "      values: -9.192837715148926\n",
      "    }\n",
      "  }\n",
      "}\n",
      "\n"
     ]
    }
   ],
   "source": [
    "data_idx = 0\n",
    "print(train_pca[data_idx])"
   ]
  },
  {
   "cell_type": "markdown",
   "metadata": {},
   "source": [
    "#### Create a transformed DataFrame\n",
    "\n",
    "For each of our data points, get the top n component values from the list of component data points, returned by our predictor above, and put those into a new DataFrame."
   ]
  },
  {
   "cell_type": "code",
   "execution_count": 37,
   "metadata": {},
   "outputs": [],
   "source": [
    "# create dimensionality-reduced data\n",
    "def create_transformed_df(train_pca, features_data, n_top_components):\n",
    "    ''' Return a dataframe of data points with component features. \n",
    "        The dataframe contain component values.\n",
    "        :param train_pca: A list of pca training data, returned by a PCA model.\n",
    "        :param features_data: A dataframe of normalised/standardised, original features.\n",
    "        :param n_top_components: An integer, the number of top components to use.\n",
    "        :return: A dataframe, with n_top_component values as columns.        \n",
    "     '''\n",
    "    # create new dataframe to add data to\n",
    "    bc_transformed=pd.DataFrame()\n",
    "\n",
    "    # for each of our new, transformed data points\n",
    "    # append the component values to the dataframe\n",
    "    for data in train_pca:\n",
    "        # get component values for each data point\n",
    "        components=data.label['projection'].float32_tensor.values\n",
    "        bc_transformed=bc_transformed.append([list(components)])\n",
    "\n",
    "    # index by county, just like counties_scaled\n",
    "    bc_transformed.index=features_data.index\n",
    "    \n",
    "    # keep only the top n components\n",
    "    start_idx = N_COMPONENTS - n_top_components\n",
    "    bc_transformed = bc_transformed.iloc[:,start_idx:]\n",
    "    \n",
    "    # reverse columns, component order     \n",
    "    return bc_transformed.iloc[:, ::-1]"
   ]
  },
  {
   "cell_type": "code",
   "execution_count": 38,
   "metadata": {},
   "outputs": [
    {
     "data": {
      "text/html": [
       "<div>\n",
       "<style scoped>\n",
       "    .dataframe tbody tr th:only-of-type {\n",
       "        vertical-align: middle;\n",
       "    }\n",
       "\n",
       "    .dataframe tbody tr th {\n",
       "        vertical-align: top;\n",
       "    }\n",
       "\n",
       "    .dataframe thead th {\n",
       "        text-align: right;\n",
       "    }\n",
       "</style>\n",
       "<table border=\"1\" class=\"dataframe\">\n",
       "  <thead>\n",
       "    <tr style=\"text-align: right;\">\n",
       "      <th></th>\n",
       "      <th>c_1</th>\n",
       "      <th>c_2</th>\n",
       "      <th>c_3</th>\n",
       "      <th>c_4</th>\n",
       "      <th>c_5</th>\n",
       "      <th>c_6</th>\n",
       "      <th>c_7</th>\n",
       "      <th>c_8</th>\n",
       "      <th>c_9</th>\n",
       "      <th>c_10</th>\n",
       "    </tr>\n",
       "    <tr>\n",
       "      <th>id</th>\n",
       "      <th></th>\n",
       "      <th></th>\n",
       "      <th></th>\n",
       "      <th></th>\n",
       "      <th></th>\n",
       "      <th></th>\n",
       "      <th></th>\n",
       "      <th></th>\n",
       "      <th></th>\n",
       "      <th></th>\n",
       "    </tr>\n",
       "  </thead>\n",
       "  <tbody>\n",
       "    <tr>\n",
       "      <th>842302</th>\n",
       "      <td>-9.192838</td>\n",
       "      <td>-1.948583</td>\n",
       "      <td>1.123166</td>\n",
       "      <td>-3.633731</td>\n",
       "      <td>-1.195110</td>\n",
       "      <td>-1.411424</td>\n",
       "      <td>-2.159370</td>\n",
       "      <td>-0.398406</td>\n",
       "      <td>0.157118</td>\n",
       "      <td>0.877402</td>\n",
       "    </tr>\n",
       "    <tr>\n",
       "      <th>842517</th>\n",
       "      <td>-2.387802</td>\n",
       "      <td>3.768172</td>\n",
       "      <td>0.529293</td>\n",
       "      <td>-1.118264</td>\n",
       "      <td>0.621775</td>\n",
       "      <td>-0.028657</td>\n",
       "      <td>-0.013358</td>\n",
       "      <td>0.240989</td>\n",
       "      <td>0.711905</td>\n",
       "      <td>-1.106994</td>\n",
       "    </tr>\n",
       "    <tr>\n",
       "      <th>84300903</th>\n",
       "      <td>-5.733896</td>\n",
       "      <td>1.075174</td>\n",
       "      <td>0.551748</td>\n",
       "      <td>-0.912083</td>\n",
       "      <td>-0.177086</td>\n",
       "      <td>-0.541452</td>\n",
       "      <td>0.668167</td>\n",
       "      <td>0.097373</td>\n",
       "      <td>-0.024066</td>\n",
       "      <td>-0.454275</td>\n",
       "    </tr>\n",
       "    <tr>\n",
       "      <th>84348301</th>\n",
       "      <td>-7.122953</td>\n",
       "      <td>-10.275589</td>\n",
       "      <td>3.232790</td>\n",
       "      <td>-0.152547</td>\n",
       "      <td>-2.960879</td>\n",
       "      <td>-3.053421</td>\n",
       "      <td>-1.429910</td>\n",
       "      <td>1.059565</td>\n",
       "      <td>1.405438</td>\n",
       "      <td>1.116976</td>\n",
       "    </tr>\n",
       "    <tr>\n",
       "      <th>84358402</th>\n",
       "      <td>-3.935302</td>\n",
       "      <td>1.948071</td>\n",
       "      <td>-1.389767</td>\n",
       "      <td>-2.940639</td>\n",
       "      <td>0.546748</td>\n",
       "      <td>1.226494</td>\n",
       "      <td>0.936212</td>\n",
       "      <td>0.636376</td>\n",
       "      <td>0.263806</td>\n",
       "      <td>-0.377705</td>\n",
       "    </tr>\n",
       "  </tbody>\n",
       "</table>\n",
       "</div>"
      ],
      "text/plain": [
       "               c_1        c_2       c_3       c_4       c_5       c_6  \\\n",
       "id                                                                      \n",
       "842302   -9.192838  -1.948583  1.123166 -3.633731 -1.195110 -1.411424   \n",
       "842517   -2.387802   3.768172  0.529293 -1.118264  0.621775 -0.028657   \n",
       "84300903 -5.733896   1.075174  0.551748 -0.912083 -0.177086 -0.541452   \n",
       "84348301 -7.122953 -10.275589  3.232790 -0.152547 -2.960879 -3.053421   \n",
       "84358402 -3.935302   1.948071 -1.389767 -2.940639  0.546748  1.226494   \n",
       "\n",
       "               c_7       c_8       c_9      c_10  \n",
       "id                                                \n",
       "842302   -2.159370 -0.398406  0.157118  0.877402  \n",
       "842517   -0.013358  0.240989  0.711905 -1.106994  \n",
       "84300903  0.668167  0.097373 -0.024066 -0.454275  \n",
       "84348301 -1.429910  1.059565  1.405438  1.116976  \n",
       "84358402  0.936212  0.636376  0.263806 -0.377705  "
      ]
     },
     "execution_count": 38,
     "metadata": {},
     "output_type": "execute_result"
    }
   ],
   "source": [
    "# specify top n\n",
    "top_n = 10\n",
    "\n",
    "# call your function and create a new dataframe\n",
    "bc_transformed = create_transformed_df(train_pca, features_df, n_top_components=top_n)\n",
    "\n",
    "# add descriptive columns\n",
    "PCA_list=['c_1', 'c_2', 'c_3', 'c_4', 'c_5', 'c_6', 'c_7', 'c_8', 'c_9', 'c_10']\n",
    "bc_transformed.columns=PCA_list \n",
    "\n",
    "# print result\n",
    "bc_transformed.head()"
   ]
  },
  {
   "cell_type": "markdown",
   "metadata": {},
   "source": [
    "#### Create the PCA dataset to be used for modelling"
   ]
  },
  {
   "cell_type": "code",
   "execution_count": 39,
   "metadata": {},
   "outputs": [
    {
     "data": {
      "text/plain": [
       "(569, 10)"
      ]
     },
     "execution_count": 39,
     "metadata": {},
     "output_type": "execute_result"
    }
   ],
   "source": [
    "bc_transformed.shape"
   ]
  },
  {
   "cell_type": "code",
   "execution_count": 40,
   "metadata": {},
   "outputs": [
    {
     "data": {
      "text/html": [
       "<div>\n",
       "<style scoped>\n",
       "    .dataframe tbody tr th:only-of-type {\n",
       "        vertical-align: middle;\n",
       "    }\n",
       "\n",
       "    .dataframe tbody tr th {\n",
       "        vertical-align: top;\n",
       "    }\n",
       "\n",
       "    .dataframe thead th {\n",
       "        text-align: right;\n",
       "    }\n",
       "</style>\n",
       "<table border=\"1\" class=\"dataframe\">\n",
       "  <thead>\n",
       "    <tr style=\"text-align: right;\">\n",
       "      <th></th>\n",
       "      <th>id</th>\n",
       "      <th>radius_mean</th>\n",
       "      <th>texture_mean</th>\n",
       "      <th>perimeter_mean</th>\n",
       "      <th>area_mean</th>\n",
       "      <th>smoothness_mean</th>\n",
       "      <th>compactness_mean</th>\n",
       "      <th>concavity_mean</th>\n",
       "      <th>concave points_mean</th>\n",
       "      <th>symmetry_mean</th>\n",
       "      <th>...</th>\n",
       "      <th>texture_worst</th>\n",
       "      <th>perimeter_worst</th>\n",
       "      <th>area_worst</th>\n",
       "      <th>smoothness_worst</th>\n",
       "      <th>compactness_worst</th>\n",
       "      <th>concavity_worst</th>\n",
       "      <th>concave points_worst</th>\n",
       "      <th>symmetry_worst</th>\n",
       "      <th>fractal_dimension_worst</th>\n",
       "      <th>diag_value</th>\n",
       "    </tr>\n",
       "    <tr>\n",
       "      <th>id</th>\n",
       "      <th></th>\n",
       "      <th></th>\n",
       "      <th></th>\n",
       "      <th></th>\n",
       "      <th></th>\n",
       "      <th></th>\n",
       "      <th></th>\n",
       "      <th></th>\n",
       "      <th></th>\n",
       "      <th></th>\n",
       "      <th></th>\n",
       "      <th></th>\n",
       "      <th></th>\n",
       "      <th></th>\n",
       "      <th></th>\n",
       "      <th></th>\n",
       "      <th></th>\n",
       "      <th></th>\n",
       "      <th></th>\n",
       "      <th></th>\n",
       "      <th></th>\n",
       "    </tr>\n",
       "  </thead>\n",
       "  <tbody>\n",
       "    <tr>\n",
       "      <th>842302</th>\n",
       "      <td>842302</td>\n",
       "      <td>1.097064</td>\n",
       "      <td>-2.073335</td>\n",
       "      <td>1.269934</td>\n",
       "      <td>0.984375</td>\n",
       "      <td>1.568466</td>\n",
       "      <td>3.283515</td>\n",
       "      <td>2.652874</td>\n",
       "      <td>2.532475</td>\n",
       "      <td>2.217515</td>\n",
       "      <td>...</td>\n",
       "      <td>-1.359293</td>\n",
       "      <td>2.303601</td>\n",
       "      <td>2.001237</td>\n",
       "      <td>1.307686</td>\n",
       "      <td>2.616665</td>\n",
       "      <td>2.109526</td>\n",
       "      <td>2.296076</td>\n",
       "      <td>2.750622</td>\n",
       "      <td>1.937015</td>\n",
       "      <td>1</td>\n",
       "    </tr>\n",
       "    <tr>\n",
       "      <th>842517</th>\n",
       "      <td>842517</td>\n",
       "      <td>1.829821</td>\n",
       "      <td>-0.353632</td>\n",
       "      <td>1.685955</td>\n",
       "      <td>1.908708</td>\n",
       "      <td>-0.826962</td>\n",
       "      <td>-0.487072</td>\n",
       "      <td>-0.023846</td>\n",
       "      <td>0.548144</td>\n",
       "      <td>0.001392</td>\n",
       "      <td>...</td>\n",
       "      <td>-0.369203</td>\n",
       "      <td>1.535126</td>\n",
       "      <td>1.890489</td>\n",
       "      <td>-0.375612</td>\n",
       "      <td>-0.430444</td>\n",
       "      <td>-0.146749</td>\n",
       "      <td>1.087084</td>\n",
       "      <td>-0.243890</td>\n",
       "      <td>0.281190</td>\n",
       "      <td>1</td>\n",
       "    </tr>\n",
       "    <tr>\n",
       "      <th>84300903</th>\n",
       "      <td>84300903</td>\n",
       "      <td>1.579888</td>\n",
       "      <td>0.456187</td>\n",
       "      <td>1.566503</td>\n",
       "      <td>1.558884</td>\n",
       "      <td>0.942210</td>\n",
       "      <td>1.052926</td>\n",
       "      <td>1.363478</td>\n",
       "      <td>2.037231</td>\n",
       "      <td>0.939685</td>\n",
       "      <td>...</td>\n",
       "      <td>-0.023974</td>\n",
       "      <td>1.347475</td>\n",
       "      <td>1.456285</td>\n",
       "      <td>0.527407</td>\n",
       "      <td>1.082932</td>\n",
       "      <td>0.854974</td>\n",
       "      <td>1.955000</td>\n",
       "      <td>1.152255</td>\n",
       "      <td>0.201391</td>\n",
       "      <td>1</td>\n",
       "    </tr>\n",
       "    <tr>\n",
       "      <th>84348301</th>\n",
       "      <td>84348301</td>\n",
       "      <td>-0.768909</td>\n",
       "      <td>0.253732</td>\n",
       "      <td>-0.592687</td>\n",
       "      <td>-0.764464</td>\n",
       "      <td>3.283553</td>\n",
       "      <td>3.402909</td>\n",
       "      <td>1.915897</td>\n",
       "      <td>1.451707</td>\n",
       "      <td>2.867383</td>\n",
       "      <td>...</td>\n",
       "      <td>0.133984</td>\n",
       "      <td>-0.249939</td>\n",
       "      <td>-0.550021</td>\n",
       "      <td>3.394275</td>\n",
       "      <td>3.893397</td>\n",
       "      <td>1.989588</td>\n",
       "      <td>2.175786</td>\n",
       "      <td>6.046041</td>\n",
       "      <td>4.935010</td>\n",
       "      <td>1</td>\n",
       "    </tr>\n",
       "    <tr>\n",
       "      <th>84358402</th>\n",
       "      <td>84358402</td>\n",
       "      <td>1.750297</td>\n",
       "      <td>-1.151816</td>\n",
       "      <td>1.776573</td>\n",
       "      <td>1.826229</td>\n",
       "      <td>0.280372</td>\n",
       "      <td>0.539340</td>\n",
       "      <td>1.371011</td>\n",
       "      <td>1.428493</td>\n",
       "      <td>-0.009560</td>\n",
       "      <td>...</td>\n",
       "      <td>-1.466770</td>\n",
       "      <td>1.338539</td>\n",
       "      <td>1.220724</td>\n",
       "      <td>0.220556</td>\n",
       "      <td>-0.313395</td>\n",
       "      <td>0.613179</td>\n",
       "      <td>0.729259</td>\n",
       "      <td>-0.868353</td>\n",
       "      <td>-0.397100</td>\n",
       "      <td>1</td>\n",
       "    </tr>\n",
       "  </tbody>\n",
       "</table>\n",
       "<p>5 rows × 32 columns</p>\n",
       "</div>"
      ],
      "text/plain": [
       "                id  radius_mean  texture_mean  perimeter_mean  area_mean  \\\n",
       "id                                                                         \n",
       "842302      842302     1.097064     -2.073335        1.269934   0.984375   \n",
       "842517      842517     1.829821     -0.353632        1.685955   1.908708   \n",
       "84300903  84300903     1.579888      0.456187        1.566503   1.558884   \n",
       "84348301  84348301    -0.768909      0.253732       -0.592687  -0.764464   \n",
       "84358402  84358402     1.750297     -1.151816        1.776573   1.826229   \n",
       "\n",
       "          smoothness_mean  compactness_mean  concavity_mean  \\\n",
       "id                                                            \n",
       "842302           1.568466          3.283515        2.652874   \n",
       "842517          -0.826962         -0.487072       -0.023846   \n",
       "84300903         0.942210          1.052926        1.363478   \n",
       "84348301         3.283553          3.402909        1.915897   \n",
       "84358402         0.280372          0.539340        1.371011   \n",
       "\n",
       "          concave points_mean  symmetry_mean  ...  texture_worst  \\\n",
       "id                                            ...                  \n",
       "842302               2.532475       2.217515  ...      -1.359293   \n",
       "842517               0.548144       0.001392  ...      -0.369203   \n",
       "84300903             2.037231       0.939685  ...      -0.023974   \n",
       "84348301             1.451707       2.867383  ...       0.133984   \n",
       "84358402             1.428493      -0.009560  ...      -1.466770   \n",
       "\n",
       "          perimeter_worst  area_worst  smoothness_worst  compactness_worst  \\\n",
       "id                                                                           \n",
       "842302           2.303601    2.001237          1.307686           2.616665   \n",
       "842517           1.535126    1.890489         -0.375612          -0.430444   \n",
       "84300903         1.347475    1.456285          0.527407           1.082932   \n",
       "84348301        -0.249939   -0.550021          3.394275           3.893397   \n",
       "84358402         1.338539    1.220724          0.220556          -0.313395   \n",
       "\n",
       "          concavity_worst  concave points_worst  symmetry_worst  \\\n",
       "id                                                                \n",
       "842302           2.109526              2.296076        2.750622   \n",
       "842517          -0.146749              1.087084       -0.243890   \n",
       "84300903         0.854974              1.955000        1.152255   \n",
       "84348301         1.989588              2.175786        6.046041   \n",
       "84358402         0.613179              0.729259       -0.868353   \n",
       "\n",
       "          fractal_dimension_worst  diag_value  \n",
       "id                                             \n",
       "842302                   1.937015           1  \n",
       "842517                   0.281190           1  \n",
       "84300903                 0.201391           1  \n",
       "84348301                 4.935010           1  \n",
       "84358402                -0.397100           1  \n",
       "\n",
       "[5 rows x 32 columns]"
      ]
     },
     "execution_count": 40,
     "metadata": {},
     "output_type": "execute_result"
    }
   ],
   "source": [
    "scaled_bc_df.head()"
   ]
  },
  {
   "cell_type": "code",
   "execution_count": 58,
   "metadata": {},
   "outputs": [
    {
     "data": {
      "text/plain": [
       "(569, 32)"
      ]
     },
     "execution_count": 58,
     "metadata": {},
     "output_type": "execute_result"
    }
   ],
   "source": [
    "scaled_bc_df.shape"
   ]
  },
  {
   "cell_type": "code",
   "execution_count": 41,
   "metadata": {},
   "outputs": [
    {
     "data": {
      "text/html": [
       "<div>\n",
       "<style scoped>\n",
       "    .dataframe tbody tr th:only-of-type {\n",
       "        vertical-align: middle;\n",
       "    }\n",
       "\n",
       "    .dataframe tbody tr th {\n",
       "        vertical-align: top;\n",
       "    }\n",
       "\n",
       "    .dataframe thead th {\n",
       "        text-align: right;\n",
       "    }\n",
       "</style>\n",
       "<table border=\"1\" class=\"dataframe\">\n",
       "  <thead>\n",
       "    <tr style=\"text-align: right;\">\n",
       "      <th></th>\n",
       "      <th>id</th>\n",
       "      <th>diag_value</th>\n",
       "      <th>c_1</th>\n",
       "      <th>c_2</th>\n",
       "      <th>c_3</th>\n",
       "      <th>c_4</th>\n",
       "      <th>c_5</th>\n",
       "      <th>c_6</th>\n",
       "      <th>c_7</th>\n",
       "      <th>c_8</th>\n",
       "      <th>c_9</th>\n",
       "      <th>c_10</th>\n",
       "    </tr>\n",
       "    <tr>\n",
       "      <th>id</th>\n",
       "      <th></th>\n",
       "      <th></th>\n",
       "      <th></th>\n",
       "      <th></th>\n",
       "      <th></th>\n",
       "      <th></th>\n",
       "      <th></th>\n",
       "      <th></th>\n",
       "      <th></th>\n",
       "      <th></th>\n",
       "      <th></th>\n",
       "      <th></th>\n",
       "    </tr>\n",
       "  </thead>\n",
       "  <tbody>\n",
       "    <tr>\n",
       "      <th>842302</th>\n",
       "      <td>842302</td>\n",
       "      <td>1</td>\n",
       "      <td>-9.192838</td>\n",
       "      <td>-1.948583</td>\n",
       "      <td>1.123166</td>\n",
       "      <td>-3.633731</td>\n",
       "      <td>-1.195110</td>\n",
       "      <td>-1.411424</td>\n",
       "      <td>-2.159370</td>\n",
       "      <td>-0.398406</td>\n",
       "      <td>0.157118</td>\n",
       "      <td>0.877402</td>\n",
       "    </tr>\n",
       "    <tr>\n",
       "      <th>842517</th>\n",
       "      <td>842517</td>\n",
       "      <td>1</td>\n",
       "      <td>-2.387802</td>\n",
       "      <td>3.768172</td>\n",
       "      <td>0.529293</td>\n",
       "      <td>-1.118264</td>\n",
       "      <td>0.621775</td>\n",
       "      <td>-0.028657</td>\n",
       "      <td>-0.013358</td>\n",
       "      <td>0.240989</td>\n",
       "      <td>0.711905</td>\n",
       "      <td>-1.106994</td>\n",
       "    </tr>\n",
       "    <tr>\n",
       "      <th>84300903</th>\n",
       "      <td>84300903</td>\n",
       "      <td>1</td>\n",
       "      <td>-5.733896</td>\n",
       "      <td>1.075174</td>\n",
       "      <td>0.551748</td>\n",
       "      <td>-0.912083</td>\n",
       "      <td>-0.177086</td>\n",
       "      <td>-0.541452</td>\n",
       "      <td>0.668167</td>\n",
       "      <td>0.097373</td>\n",
       "      <td>-0.024066</td>\n",
       "      <td>-0.454275</td>\n",
       "    </tr>\n",
       "    <tr>\n",
       "      <th>84348301</th>\n",
       "      <td>84348301</td>\n",
       "      <td>1</td>\n",
       "      <td>-7.122953</td>\n",
       "      <td>-10.275589</td>\n",
       "      <td>3.232790</td>\n",
       "      <td>-0.152547</td>\n",
       "      <td>-2.960879</td>\n",
       "      <td>-3.053421</td>\n",
       "      <td>-1.429910</td>\n",
       "      <td>1.059565</td>\n",
       "      <td>1.405438</td>\n",
       "      <td>1.116976</td>\n",
       "    </tr>\n",
       "    <tr>\n",
       "      <th>84358402</th>\n",
       "      <td>84358402</td>\n",
       "      <td>1</td>\n",
       "      <td>-3.935302</td>\n",
       "      <td>1.948071</td>\n",
       "      <td>-1.389767</td>\n",
       "      <td>-2.940639</td>\n",
       "      <td>0.546748</td>\n",
       "      <td>1.226494</td>\n",
       "      <td>0.936212</td>\n",
       "      <td>0.636376</td>\n",
       "      <td>0.263806</td>\n",
       "      <td>-0.377705</td>\n",
       "    </tr>\n",
       "  </tbody>\n",
       "</table>\n",
       "</div>"
      ],
      "text/plain": [
       "                id  diag_value       c_1        c_2       c_3       c_4  \\\n",
       "id                                                                        \n",
       "842302      842302           1 -9.192838  -1.948583  1.123166 -3.633731   \n",
       "842517      842517           1 -2.387802   3.768172  0.529293 -1.118264   \n",
       "84300903  84300903           1 -5.733896   1.075174  0.551748 -0.912083   \n",
       "84348301  84348301           1 -7.122953 -10.275589  3.232790 -0.152547   \n",
       "84358402  84358402           1 -3.935302   1.948071 -1.389767 -2.940639   \n",
       "\n",
       "               c_5       c_6       c_7       c_8       c_9      c_10  \n",
       "id                                                                    \n",
       "842302   -1.195110 -1.411424 -2.159370 -0.398406  0.157118  0.877402  \n",
       "842517    0.621775 -0.028657 -0.013358  0.240989  0.711905 -1.106994  \n",
       "84300903 -0.177086 -0.541452  0.668167  0.097373 -0.024066 -0.454275  \n",
       "84348301 -2.960879 -3.053421 -1.429910  1.059565  1.405438  1.116976  \n",
       "84358402  0.546748  1.226494  0.936212  0.636376  0.263806 -0.377705  "
      ]
     },
     "execution_count": 41,
     "metadata": {},
     "output_type": "execute_result"
    }
   ],
   "source": [
    "pca_bc_df = pd.concat([scaled_bc_df['id'], \n",
    "                      scaled_bc_df['diag_value'],\n",
    "                      bc_transformed], axis = 1, sort = False)\n",
    "pca_bc_df.head()"
   ]
  },
  {
   "cell_type": "markdown",
   "metadata": {},
   "source": [
    "#### write the PCA dataset locally for use with modelling notebooks"
   ]
  },
  {
   "cell_type": "code",
   "execution_count": 42,
   "metadata": {},
   "outputs": [],
   "source": [
    "pca_data = 'data/pca.csv'\n",
    "pca_bc_df.to_csv(pca_data)"
   ]
  },
  {
   "cell_type": "code",
   "execution_count": 43,
   "metadata": {},
   "outputs": [],
   "source": [
    "# delete predictor endpoint\n",
    "session.delete_endpoint(pca_predictor.endpoint)"
   ]
  }
 ],
 "metadata": {
  "kernelspec": {
   "display_name": "conda_mxnet_p36",
   "language": "python",
   "name": "conda_mxnet_p36"
  },
  "language_info": {
   "codemirror_mode": {
    "name": "ipython",
    "version": 3
   },
   "file_extension": ".py",
   "mimetype": "text/x-python",
   "name": "python",
   "nbconvert_exporter": "python",
   "pygments_lexer": "ipython3",
   "version": "3.6.10"
  }
 },
 "nbformat": 4,
 "nbformat_minor": 4
}
