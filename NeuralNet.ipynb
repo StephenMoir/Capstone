{
 "cells": [
  {
   "cell_type": "markdown",
   "metadata": {},
   "source": [
    "## BREAST CANCER PREDICTION - NEURAL NETWORK MODEL\n",
    "\n",
    "#### Load the required libraries\n",
    "\n",
    "#### Also ensure the kernel is _pytorch_p36"
   ]
  },
  {
   "cell_type": "code",
   "execution_count": 1,
   "metadata": {},
   "outputs": [],
   "source": [
    "# data managing and display libs\n",
    "import pandas as pd\n",
    "import numpy as np\n",
    "import os\n",
    "import io\n",
    "\n",
    "import matplotlib.pyplot as plt\n",
    "import matplotlib\n",
    "%matplotlib inline"
   ]
  },
  {
   "cell_type": "code",
   "execution_count": 2,
   "metadata": {},
   "outputs": [],
   "source": [
    "# sagemaker libraries\n",
    "import boto3\n",
    "import sagemaker\n",
    "from sagemaker import get_execution_role\n",
    "from sagemaker.pytorch import PyTorch"
   ]
  },
  {
   "cell_type": "code",
   "execution_count": 36,
   "metadata": {},
   "outputs": [],
   "source": [
    "# torch imports\n",
    "import torch\n",
    "from torchvision import datasets, transforms\n",
    "import torch.nn.functional as F\n",
    "from torch import nn, optim"
   ]
  },
  {
   "cell_type": "markdown",
   "metadata": {},
   "source": [
    "#### Set up the Sagemaker Environment"
   ]
  },
  {
   "cell_type": "code",
   "execution_count": 3,
   "metadata": {},
   "outputs": [
    {
     "name": "stdout",
     "output_type": "stream",
     "text": [
      "arn:aws:iam::396358375665:role/service-role/AmazonSageMaker-ExecutionRole-20200814T112856\n",
      "sagemaker-eu-west-1-396358375665\n"
     ]
    }
   ],
   "source": [
    "# sagemaker session, role\n",
    "sagemaker_session = sagemaker.Session()\n",
    "role = sagemaker.get_execution_role()\n",
    "print(role)\n",
    "\n",
    "# S3 bucket name\n",
    "bucket = sagemaker_session.default_bucket()\n",
    "print(bucket)"
   ]
  },
  {
   "cell_type": "markdown",
   "metadata": {},
   "source": [
    "#### Read the PCA data"
   ]
  },
  {
   "cell_type": "code",
   "execution_count": 4,
   "metadata": {},
   "outputs": [
    {
     "name": "stdout",
     "output_type": "stream",
     "text": [
      "Data shape (rows, cols):  (569, 13)\n",
      "\n"
     ]
    },
    {
     "data": {
      "text/html": [
       "<div>\n",
       "<style scoped>\n",
       "    .dataframe tbody tr th:only-of-type {\n",
       "        vertical-align: middle;\n",
       "    }\n",
       "\n",
       "    .dataframe tbody tr th {\n",
       "        vertical-align: top;\n",
       "    }\n",
       "\n",
       "    .dataframe thead th {\n",
       "        text-align: right;\n",
       "    }\n",
       "</style>\n",
       "<table border=\"1\" class=\"dataframe\">\n",
       "  <thead>\n",
       "    <tr style=\"text-align: right;\">\n",
       "      <th></th>\n",
       "      <th>id</th>\n",
       "      <th>id.1</th>\n",
       "      <th>diag_value</th>\n",
       "      <th>c_1</th>\n",
       "      <th>c_2</th>\n",
       "      <th>c_3</th>\n",
       "      <th>c_4</th>\n",
       "      <th>c_5</th>\n",
       "      <th>c_6</th>\n",
       "      <th>c_7</th>\n",
       "      <th>c_8</th>\n",
       "      <th>c_9</th>\n",
       "      <th>c_10</th>\n",
       "    </tr>\n",
       "  </thead>\n",
       "  <tbody>\n",
       "    <tr>\n",
       "      <th>0</th>\n",
       "      <td>842302</td>\n",
       "      <td>842302</td>\n",
       "      <td>1</td>\n",
       "      <td>-9.192838</td>\n",
       "      <td>-1.948583</td>\n",
       "      <td>1.123166</td>\n",
       "      <td>-3.633731</td>\n",
       "      <td>-1.195110</td>\n",
       "      <td>-1.411424</td>\n",
       "      <td>-2.159370</td>\n",
       "      <td>-0.398406</td>\n",
       "      <td>0.157118</td>\n",
       "      <td>0.877402</td>\n",
       "    </tr>\n",
       "    <tr>\n",
       "      <th>1</th>\n",
       "      <td>842517</td>\n",
       "      <td>842517</td>\n",
       "      <td>1</td>\n",
       "      <td>-2.387802</td>\n",
       "      <td>3.768172</td>\n",
       "      <td>0.529293</td>\n",
       "      <td>-1.118264</td>\n",
       "      <td>0.621775</td>\n",
       "      <td>-0.028657</td>\n",
       "      <td>-0.013358</td>\n",
       "      <td>0.240989</td>\n",
       "      <td>0.711905</td>\n",
       "      <td>-1.106994</td>\n",
       "    </tr>\n",
       "    <tr>\n",
       "      <th>2</th>\n",
       "      <td>84300903</td>\n",
       "      <td>84300903</td>\n",
       "      <td>1</td>\n",
       "      <td>-5.733896</td>\n",
       "      <td>1.075174</td>\n",
       "      <td>0.551748</td>\n",
       "      <td>-0.912083</td>\n",
       "      <td>-0.177086</td>\n",
       "      <td>-0.541452</td>\n",
       "      <td>0.668167</td>\n",
       "      <td>0.097373</td>\n",
       "      <td>-0.024066</td>\n",
       "      <td>-0.454275</td>\n",
       "    </tr>\n",
       "    <tr>\n",
       "      <th>3</th>\n",
       "      <td>84348301</td>\n",
       "      <td>84348301</td>\n",
       "      <td>1</td>\n",
       "      <td>-7.122953</td>\n",
       "      <td>-10.275589</td>\n",
       "      <td>3.232790</td>\n",
       "      <td>-0.152547</td>\n",
       "      <td>-2.960879</td>\n",
       "      <td>-3.053421</td>\n",
       "      <td>-1.429910</td>\n",
       "      <td>1.059565</td>\n",
       "      <td>1.405438</td>\n",
       "      <td>1.116976</td>\n",
       "    </tr>\n",
       "    <tr>\n",
       "      <th>4</th>\n",
       "      <td>84358402</td>\n",
       "      <td>84358402</td>\n",
       "      <td>1</td>\n",
       "      <td>-3.935302</td>\n",
       "      <td>1.948071</td>\n",
       "      <td>-1.389767</td>\n",
       "      <td>-2.940639</td>\n",
       "      <td>0.546748</td>\n",
       "      <td>1.226494</td>\n",
       "      <td>0.936212</td>\n",
       "      <td>0.636376</td>\n",
       "      <td>0.263806</td>\n",
       "      <td>-0.377705</td>\n",
       "    </tr>\n",
       "  </tbody>\n",
       "</table>\n",
       "</div>"
      ],
      "text/plain": [
       "         id      id.1  diag_value       c_1        c_2       c_3       c_4  \\\n",
       "0    842302    842302           1 -9.192838  -1.948583  1.123166 -3.633731   \n",
       "1    842517    842517           1 -2.387802   3.768172  0.529293 -1.118264   \n",
       "2  84300903  84300903           1 -5.733896   1.075174  0.551748 -0.912083   \n",
       "3  84348301  84348301           1 -7.122953 -10.275589  3.232790 -0.152547   \n",
       "4  84358402  84358402           1 -3.935302   1.948071 -1.389767 -2.940639   \n",
       "\n",
       "        c_5       c_6       c_7       c_8       c_9      c_10  \n",
       "0 -1.195110 -1.411424 -2.159370 -0.398406  0.157118  0.877402  \n",
       "1  0.621775 -0.028657 -0.013358  0.240989  0.711905 -1.106994  \n",
       "2 -0.177086 -0.541452  0.668167  0.097373 -0.024066 -0.454275  \n",
       "3 -2.960879 -3.053421 -1.429910  1.059565  1.405438  1.116976  \n",
       "4  0.546748  1.226494  0.936212  0.636376  0.263806 -0.377705  "
      ]
     },
     "execution_count": 4,
     "metadata": {},
     "output_type": "execute_result"
    }
   ],
   "source": [
    "# read in the pca csv file\n",
    "local_data = 'data/pca.csv'\n",
    "\n",
    "# print out some data\n",
    "pca_bc_df = pd.read_csv(local_data)\n",
    "print('Data shape (rows, cols): ', pca_bc_df.shape)\n",
    "print()\n",
    "pca_bc_df.head()"
   ]
  },
  {
   "cell_type": "code",
   "execution_count": 5,
   "metadata": {},
   "outputs": [
    {
     "data": {
      "text/html": [
       "<div>\n",
       "<style scoped>\n",
       "    .dataframe tbody tr th:only-of-type {\n",
       "        vertical-align: middle;\n",
       "    }\n",
       "\n",
       "    .dataframe tbody tr th {\n",
       "        vertical-align: top;\n",
       "    }\n",
       "\n",
       "    .dataframe thead th {\n",
       "        text-align: right;\n",
       "    }\n",
       "</style>\n",
       "<table border=\"1\" class=\"dataframe\">\n",
       "  <thead>\n",
       "    <tr style=\"text-align: right;\">\n",
       "      <th></th>\n",
       "      <th>diag_value</th>\n",
       "      <th>c_1</th>\n",
       "      <th>c_2</th>\n",
       "      <th>c_3</th>\n",
       "      <th>c_4</th>\n",
       "      <th>c_5</th>\n",
       "      <th>c_6</th>\n",
       "      <th>c_7</th>\n",
       "      <th>c_8</th>\n",
       "      <th>c_9</th>\n",
       "      <th>c_10</th>\n",
       "    </tr>\n",
       "    <tr>\n",
       "      <th>id</th>\n",
       "      <th></th>\n",
       "      <th></th>\n",
       "      <th></th>\n",
       "      <th></th>\n",
       "      <th></th>\n",
       "      <th></th>\n",
       "      <th></th>\n",
       "      <th></th>\n",
       "      <th></th>\n",
       "      <th></th>\n",
       "      <th></th>\n",
       "    </tr>\n",
       "  </thead>\n",
       "  <tbody>\n",
       "    <tr>\n",
       "      <th>842302</th>\n",
       "      <td>1</td>\n",
       "      <td>-9.192838</td>\n",
       "      <td>-1.948583</td>\n",
       "      <td>1.123166</td>\n",
       "      <td>-3.633731</td>\n",
       "      <td>-1.195110</td>\n",
       "      <td>-1.411424</td>\n",
       "      <td>-2.159370</td>\n",
       "      <td>-0.398406</td>\n",
       "      <td>0.157118</td>\n",
       "      <td>0.877402</td>\n",
       "    </tr>\n",
       "    <tr>\n",
       "      <th>842517</th>\n",
       "      <td>1</td>\n",
       "      <td>-2.387802</td>\n",
       "      <td>3.768172</td>\n",
       "      <td>0.529293</td>\n",
       "      <td>-1.118264</td>\n",
       "      <td>0.621775</td>\n",
       "      <td>-0.028657</td>\n",
       "      <td>-0.013358</td>\n",
       "      <td>0.240989</td>\n",
       "      <td>0.711905</td>\n",
       "      <td>-1.106994</td>\n",
       "    </tr>\n",
       "    <tr>\n",
       "      <th>84300903</th>\n",
       "      <td>1</td>\n",
       "      <td>-5.733896</td>\n",
       "      <td>1.075174</td>\n",
       "      <td>0.551748</td>\n",
       "      <td>-0.912083</td>\n",
       "      <td>-0.177086</td>\n",
       "      <td>-0.541452</td>\n",
       "      <td>0.668167</td>\n",
       "      <td>0.097373</td>\n",
       "      <td>-0.024066</td>\n",
       "      <td>-0.454275</td>\n",
       "    </tr>\n",
       "    <tr>\n",
       "      <th>84348301</th>\n",
       "      <td>1</td>\n",
       "      <td>-7.122953</td>\n",
       "      <td>-10.275589</td>\n",
       "      <td>3.232790</td>\n",
       "      <td>-0.152547</td>\n",
       "      <td>-2.960879</td>\n",
       "      <td>-3.053421</td>\n",
       "      <td>-1.429910</td>\n",
       "      <td>1.059565</td>\n",
       "      <td>1.405438</td>\n",
       "      <td>1.116976</td>\n",
       "    </tr>\n",
       "    <tr>\n",
       "      <th>84358402</th>\n",
       "      <td>1</td>\n",
       "      <td>-3.935302</td>\n",
       "      <td>1.948071</td>\n",
       "      <td>-1.389767</td>\n",
       "      <td>-2.940639</td>\n",
       "      <td>0.546748</td>\n",
       "      <td>1.226494</td>\n",
       "      <td>0.936212</td>\n",
       "      <td>0.636376</td>\n",
       "      <td>0.263806</td>\n",
       "      <td>-0.377705</td>\n",
       "    </tr>\n",
       "  </tbody>\n",
       "</table>\n",
       "</div>"
      ],
      "text/plain": [
       "          diag_value       c_1        c_2       c_3       c_4       c_5  \\\n",
       "id                                                                        \n",
       "842302             1 -9.192838  -1.948583  1.123166 -3.633731 -1.195110   \n",
       "842517             1 -2.387802   3.768172  0.529293 -1.118264  0.621775   \n",
       "84300903           1 -5.733896   1.075174  0.551748 -0.912083 -0.177086   \n",
       "84348301           1 -7.122953 -10.275589  3.232790 -0.152547 -2.960879   \n",
       "84358402           1 -3.935302   1.948071 -1.389767 -2.940639  0.546748   \n",
       "\n",
       "               c_6       c_7       c_8       c_9      c_10  \n",
       "id                                                          \n",
       "842302   -1.411424 -2.159370 -0.398406  0.157118  0.877402  \n",
       "842517   -0.028657 -0.013358  0.240989  0.711905 -1.106994  \n",
       "84300903 -0.541452  0.668167  0.097373 -0.024066 -0.454275  \n",
       "84348301 -3.053421 -1.429910  1.059565  1.405438  1.116976  \n",
       "84358402  1.226494  0.936212  0.636376  0.263806 -0.377705  "
      ]
     },
     "execution_count": 5,
     "metadata": {},
     "output_type": "execute_result"
    }
   ],
   "source": [
    "# tidy up the columns and index\n",
    "\n",
    "pca_bc_df = pca_bc_df.drop('id.1', axis = 1)\n",
    "pca_bc_df.index=pca_bc_df['id'] \n",
    "pca_bc_df = pca_bc_df.drop('id', axis = 1)\n",
    "pca_bc_df.head()"
   ]
  },
  {
   "cell_type": "markdown",
   "metadata": {},
   "source": [
    "#### Split the data into Train and Test"
   ]
  },
  {
   "cell_type": "code",
   "execution_count": 7,
   "metadata": {},
   "outputs": [],
   "source": [
    "# split into train/test\n",
    "def train_test_split(df, train_frac= 0.7, seed=1):\n",
    "    '''Shuffle the data and randomly split into train and test sets;\n",
    "       separate the class labels (the column in df) from the features.\n",
    "       :param df: Dataframe of all TNA measurements\n",
    "       :param train_frac: The decimal fraction of data that should be training data\n",
    "       :param seed: Random seed for shuffling and reproducibility, default = 1\n",
    "       :return: Two tuples (in order): (train_features, train_labels), (test_features, test_labels)\n",
    "       '''\n",
    "    # convert dataframe to a matrix in order to use numpy shuffle\n",
    "    trans_matrix = df.to_numpy()\n",
    "    \n",
    "    # shuffle and split the data\n",
    "    np.random.seed(seed)\n",
    "    np.random.shuffle(trans_matrix)\n",
    "    \n",
    "    # define the training cut off from the number of rows\n",
    "    nTrain = int(trans_matrix.shape[0] * train_frac)\n",
    "    nFeatures = trans_matrix.shape[1]-1\n",
    "    \n",
    "    # the features are all columns except the first one\n",
    "    train_features = trans_matrix[:nTrain, 1: ]\n",
    "    train_labels = trans_matrix[:nTrain, :1 ]\n",
    "    \n",
    "    test_features = trans_matrix[nTrain: , 1: ]\n",
    "    test_labels = trans_matrix[nTrain: , :1 ]\n",
    "    \n",
    "    return (train_features, train_labels[: , 0]), (test_features, test_labels[: ,0])"
   ]
  },
  {
   "cell_type": "code",
   "execution_count": 8,
   "metadata": {},
   "outputs": [],
   "source": [
    "# get train/test data\n",
    "(train_features, train_labels), (test_features, test_labels) = train_test_split(pca_bc_df, train_frac=0.7)"
   ]
  },
  {
   "cell_type": "markdown",
   "metadata": {},
   "source": [
    "#### Create csv files for use with modelling"
   ]
  },
  {
   "cell_type": "code",
   "execution_count": 12,
   "metadata": {},
   "outputs": [],
   "source": [
    "data_dir = 'data'\n",
    "\n",
    "# We use pandas to save our train and test data to csv files. Note that we make sure not to include header\n",
    "# information or an index \n",
    "\n",
    "pd.concat([pd.DataFrame(train_labels), pd.DataFrame(train_features)], axis=1).to_csv(os.path.join(data_dir, 'nntrain.csv'), header=False, index=False)\n",
    "pd.concat([pd.DataFrame(test_labels), pd.DataFrame(test_features)], axis=1).to_csv(os.path.join(data_dir, 'nntest.csv'), header=False, index=False)"
   ]
  },
  {
   "cell_type": "markdown",
   "metadata": {},
   "source": [
    "#### Upload data to S3"
   ]
  },
  {
   "cell_type": "code",
   "execution_count": 14,
   "metadata": {},
   "outputs": [],
   "source": [
    "# describe the s3 location prefix\n",
    "prefix = 'nn'\n",
    "\n",
    "test_location = sagemaker_session.upload_data(os.path.join(data_dir, 'nntest.csv'), key_prefix=prefix)\n",
    "train_location = sagemaker_session.upload_data(os.path.join(data_dir, 'nntrain.csv'), key_prefix=prefix)\n"
   ]
  },
  {
   "cell_type": "code",
   "execution_count": 18,
   "metadata": {},
   "outputs": [
    {
     "data": {
      "text/plain": [
       "'s3://sagemaker-eu-west-1-396358375665/nn/nntest.csv'"
      ]
     },
     "execution_count": 18,
     "metadata": {},
     "output_type": "execute_result"
    }
   ],
   "source": [
    "test_location"
   ]
  },
  {
   "cell_type": "code",
   "execution_count": 19,
   "metadata": {},
   "outputs": [
    {
     "data": {
      "text/plain": [
       "'s3://sagemaker-eu-west-1-396358375665/nn/nntrain.csv'"
      ]
     },
     "execution_count": 19,
     "metadata": {},
     "output_type": "execute_result"
    }
   ],
   "source": [
    "train_location"
   ]
  },
  {
   "cell_type": "code",
   "execution_count": 20,
   "metadata": {},
   "outputs": [
    {
     "name": "stdout",
     "output_type": "stream",
     "text": [
      "s3://sagemaker-eu-west-1-396358375665/nn\n"
     ]
    }
   ],
   "source": [
    "# upload all data to S3\n",
    "input_data = sagemaker_session.upload_data(path=data_dir, bucket=bucket, key_prefix=prefix)\n",
    "print(input_data)"
   ]
  },
  {
   "cell_type": "markdown",
   "metadata": {},
   "source": [
    "#### Define the model"
   ]
  },
  {
   "cell_type": "markdown",
   "metadata": {},
   "source": [
    "Initial check for epoch overfitting"
   ]
  },
  {
   "cell_type": "code",
   "execution_count": 28,
   "metadata": {},
   "outputs": [],
   "source": [
    "class BinaryClassifier(nn.Module):\n",
    "    \"\"\"\n",
    "    Define a neural network that performs binary classification.\n",
    "    The network should accept your number of features as input, and produce \n",
    "    a single sigmoid value, that can be rounded to a label: 0 or 1, as output.\n",
    "    \n",
    "    Notes on training:\n",
    "    To train a binary classifier in PyTorch, use BCELoss.\n",
    "    BCELoss is binary cross entropy loss, documentation: https://pytorch.org/docs/stable/nn.html#torch.nn.BCELoss\n",
    "    \"\"\"\n",
    "\n",
    "    ## Define the init function, the input params are required (for loading code in train.py to work)\n",
    "    def __init__(self, input_features, hidden_dim, output_dim):\n",
    "        \"\"\"\n",
    "        Initialize the model by setting up linear layers.\n",
    "        Use the input parameters to help define the layers of your model.\n",
    "        :param input_features: the number of input features in your training/test data\n",
    "        :param hidden_dim: helps define the number of nodes in the hidden layer(s)\n",
    "        :param output_dim: the number of outputs you want to produce\n",
    "        \"\"\"\n",
    "        super(BinaryClassifier, self).__init__()\n",
    "\n",
    "        # define any initial layers, here\n",
    "        # Inputs to hidden layer linear transformation\n",
    "        self.fc1 = nn.Linear(input_features, hidden_dim)\n",
    "        # apply dropout\n",
    "        self.drop = nn.Dropout(0.25)\n",
    "        # Output layer\n",
    "        self.fc2 = nn.Linear(hidden_dim, output_dim)\n",
    "        \n",
    "        # Define activations  \n",
    "        self.a1 = nn.ReLU()\n",
    "        self.a2 = nn.Sigmoid()\n",
    "\n",
    "    \n",
    "    ## Define the feed forward behavior of the network\n",
    "    def forward(self, x):\n",
    "        \"\"\"\n",
    "        Perform a forward pass of our model on input features, x.\n",
    "        :param x: A batch of input features of size (batch_size, input_features)\n",
    "        :return: A single, sigmoid-activated value as output\n",
    "        \"\"\"\n",
    "        \n",
    "        # define the feedforward behavior\n",
    "        x = self.fc1(x)\n",
    "        x = self.a1(x)\n",
    "        x = self.drop(x)\n",
    "        x = self.fc2(x)\n",
    "        x = self.a2(x)\n",
    "        \n",
    "        return x"
   ]
  },
  {
   "cell_type": "code",
   "execution_count": 38,
   "metadata": {},
   "outputs": [],
   "source": [
    "train_y = torch.from_numpy(train_labels).float().squeeze()\n",
    "train_x = torch.from_numpy(train_features).float()\n",
    "\n",
    "train_ds = torch.utils.data.TensorDataset(train_x, train_y)"
   ]
  },
  {
   "cell_type": "code",
   "execution_count": 43,
   "metadata": {},
   "outputs": [],
   "source": [
    "# Define a transform to normalize the data\n",
    "trainloader = torch.utils.data.DataLoader(train_ds, batch_size=64, shuffle=True)"
   ]
  },
  {
   "cell_type": "code",
   "execution_count": 40,
   "metadata": {},
   "outputs": [],
   "source": [
    "test_y = torch.from_numpy(test_labels).float().squeeze()\n",
    "test_x = torch.from_numpy(test_features).float()\n",
    "\n",
    "test_ds = torch.utils.data.TensorDataset(test_x, test_y)"
   ]
  },
  {
   "cell_type": "code",
   "execution_count": 45,
   "metadata": {},
   "outputs": [],
   "source": [
    "testloader = torch.utils.data.DataLoader(test_ds, batch_size=64, shuffle=True)"
   ]
  },
  {
   "cell_type": "code",
   "execution_count": 51,
   "metadata": {
    "collapsed": true,
    "jupyter": {
     "outputs_hidden": true
    }
   },
   "outputs": [
    {
     "name": "stderr",
     "output_type": "stream",
     "text": [
      "/home/ec2-user/anaconda3/envs/pytorch_p36/lib/python3.6/site-packages/torch/nn/modules/loss.py:498: UserWarning: Using a target size (torch.Size([64])) that is different to the input size (torch.Size([64, 1])) is deprecated. Please ensure they have the same size.\n",
      "  return F.binary_cross_entropy(input, target, weight=self.weight, reduction=self.reduction)\n",
      "/home/ec2-user/anaconda3/envs/pytorch_p36/lib/python3.6/site-packages/torch/nn/modules/loss.py:498: UserWarning: Using a target size (torch.Size([14])) that is different to the input size (torch.Size([14, 1])) is deprecated. Please ensure they have the same size.\n",
      "  return F.binary_cross_entropy(input, target, weight=self.weight, reduction=self.reduction)\n",
      "/home/ec2-user/anaconda3/envs/pytorch_p36/lib/python3.6/site-packages/torch/nn/modules/loss.py:498: UserWarning: Using a target size (torch.Size([43])) that is different to the input size (torch.Size([43, 1])) is deprecated. Please ensure they have the same size.\n",
      "  return F.binary_cross_entropy(input, target, weight=self.weight, reduction=self.reduction)\n"
     ]
    },
    {
     "name": "stdout",
     "output_type": "stream",
     "text": [
      "Epoch: 1/100..  Training Loss: 0.662..  Test Loss: 0.596.. \n",
      "Epoch: 2/100..  Training Loss: 0.581..  Test Loss: 0.524.. \n",
      "Epoch: 3/100..  Training Loss: 0.529..  Test Loss: 0.464.. \n",
      "Epoch: 4/100..  Training Loss: 0.467..  Test Loss: 0.408.. \n",
      "Epoch: 5/100..  Training Loss: 0.409..  Test Loss: 0.358.. \n",
      "Epoch: 6/100..  Training Loss: 0.379..  Test Loss: 0.317.. \n",
      "Epoch: 7/100..  Training Loss: 0.334..  Test Loss: 0.284.. \n",
      "Epoch: 8/100..  Training Loss: 0.310..  Test Loss: 0.251.. \n",
      "Epoch: 9/100..  Training Loss: 0.274..  Test Loss: 0.220.. \n",
      "Epoch: 10/100..  Training Loss: 0.246..  Test Loss: 0.198.. \n",
      "Epoch: 11/100..  Training Loss: 0.226..  Test Loss: 0.176.. \n",
      "Epoch: 12/100..  Training Loss: 0.205..  Test Loss: 0.159.. \n",
      "Epoch: 13/100..  Training Loss: 0.197..  Test Loss: 0.143.. \n",
      "Epoch: 14/100..  Training Loss: 0.166..  Test Loss: 0.134.. \n",
      "Epoch: 15/100..  Training Loss: 0.162..  Test Loss: 0.123.. \n",
      "Epoch: 16/100..  Training Loss: 0.152..  Test Loss: 0.117.. \n",
      "Epoch: 17/100..  Training Loss: 0.146..  Test Loss: 0.117.. \n",
      "Epoch: 18/100..  Training Loss: 0.141..  Test Loss: 0.102.. \n",
      "Epoch: 19/100..  Training Loss: 0.139..  Test Loss: 0.096.. \n",
      "Epoch: 20/100..  Training Loss: 0.124..  Test Loss: 0.091.. \n",
      "Epoch: 21/100..  Training Loss: 0.118..  Test Loss: 0.086.. \n",
      "Epoch: 22/100..  Training Loss: 0.113..  Test Loss: 0.095.. \n",
      "Epoch: 23/100..  Training Loss: 0.109..  Test Loss: 0.082.. \n",
      "Epoch: 24/100..  Training Loss: 0.135..  Test Loss: 0.079.. \n",
      "Epoch: 25/100..  Training Loss: 0.088..  Test Loss: 0.088.. \n",
      "Epoch: 26/100..  Training Loss: 0.115..  Test Loss: 0.086.. \n",
      "Epoch: 27/100..  Training Loss: 0.117..  Test Loss: 0.074.. \n",
      "Epoch: 28/100..  Training Loss: 0.085..  Test Loss: 0.074.. \n",
      "Epoch: 29/100..  Training Loss: 0.088..  Test Loss: 0.081.. \n",
      "Epoch: 30/100..  Training Loss: 0.085..  Test Loss: 0.069.. \n",
      "Epoch: 31/100..  Training Loss: 0.075..  Test Loss: 0.072.. \n",
      "Epoch: 32/100..  Training Loss: 0.084..  Test Loss: 0.067.. \n",
      "Epoch: 33/100..  Training Loss: 0.102..  Test Loss: 0.068.. \n",
      "Epoch: 34/100..  Training Loss: 0.092..  Test Loss: 0.064.. \n",
      "Epoch: 35/100..  Training Loss: 0.074..  Test Loss: 0.065.. \n",
      "Epoch: 36/100..  Training Loss: 0.076..  Test Loss: 0.066.. \n",
      "Epoch: 37/100..  Training Loss: 0.097..  Test Loss: 0.065.. \n",
      "Epoch: 38/100..  Training Loss: 0.071..  Test Loss: 0.076.. \n",
      "Epoch: 39/100..  Training Loss: 0.076..  Test Loss: 0.078.. \n",
      "Epoch: 40/100..  Training Loss: 0.062..  Test Loss: 0.062.. \n",
      "Epoch: 41/100..  Training Loss: 0.067..  Test Loss: 0.061.. \n",
      "Epoch: 42/100..  Training Loss: 0.073..  Test Loss: 0.065.. \n",
      "Epoch: 43/100..  Training Loss: 0.060..  Test Loss: 0.063.. \n",
      "Epoch: 44/100..  Training Loss: 0.077..  Test Loss: 0.065.. \n",
      "Epoch: 45/100..  Training Loss: 0.086..  Test Loss: 0.061.. \n",
      "Epoch: 46/100..  Training Loss: 0.065..  Test Loss: 0.074.. \n",
      "Epoch: 47/100..  Training Loss: 0.063..  Test Loss: 0.077.. \n",
      "Epoch: 48/100..  Training Loss: 0.063..  Test Loss: 0.060.. \n",
      "Epoch: 49/100..  Training Loss: 0.063..  Test Loss: 0.059.. \n",
      "Epoch: 50/100..  Training Loss: 0.079..  Test Loss: 0.062.. \n",
      "Epoch: 51/100..  Training Loss: 0.050..  Test Loss: 0.064.. \n",
      "Epoch: 52/100..  Training Loss: 0.061..  Test Loss: 0.061.. \n",
      "Epoch: 53/100..  Training Loss: 0.050..  Test Loss: 0.079.. \n",
      "Epoch: 54/100..  Training Loss: 0.062..  Test Loss: 0.059.. \n",
      "Epoch: 55/100..  Training Loss: 0.054..  Test Loss: 0.077.. \n",
      "Epoch: 56/100..  Training Loss: 0.053..  Test Loss: 0.061.. \n",
      "Epoch: 57/100..  Training Loss: 0.055..  Test Loss: 0.078.. \n",
      "Epoch: 58/100..  Training Loss: 0.062..  Test Loss: 0.063.. \n",
      "Epoch: 59/100..  Training Loss: 0.064..  Test Loss: 0.063.. \n",
      "Epoch: 60/100..  Training Loss: 0.048..  Test Loss: 0.076.. \n",
      "Epoch: 61/100..  Training Loss: 0.082..  Test Loss: 0.078.. \n",
      "Epoch: 62/100..  Training Loss: 0.061..  Test Loss: 0.060.. \n",
      "Epoch: 63/100..  Training Loss: 0.054..  Test Loss: 0.081.. \n",
      "Epoch: 64/100..  Training Loss: 0.042..  Test Loss: 0.059.. \n",
      "Epoch: 65/100..  Training Loss: 0.055..  Test Loss: 0.081.. \n",
      "Epoch: 66/100..  Training Loss: 0.049..  Test Loss: 0.060.. \n",
      "Epoch: 67/100..  Training Loss: 0.050..  Test Loss: 0.078.. \n",
      "Epoch: 68/100..  Training Loss: 0.051..  Test Loss: 0.064.. \n",
      "Epoch: 69/100..  Training Loss: 0.054..  Test Loss: 0.061.. \n",
      "Epoch: 70/100..  Training Loss: 0.045..  Test Loss: 0.063.. \n",
      "Epoch: 71/100..  Training Loss: 0.043..  Test Loss: 0.065.. \n",
      "Epoch: 72/100..  Training Loss: 0.047..  Test Loss: 0.083.. \n",
      "Epoch: 73/100..  Training Loss: 0.047..  Test Loss: 0.081.. \n",
      "Epoch: 74/100..  Training Loss: 0.043..  Test Loss: 0.079.. \n",
      "Epoch: 75/100..  Training Loss: 0.047..  Test Loss: 0.066.. \n",
      "Epoch: 76/100..  Training Loss: 0.047..  Test Loss: 0.062.. \n",
      "Epoch: 77/100..  Training Loss: 0.046..  Test Loss: 0.062.. \n",
      "Epoch: 78/100..  Training Loss: 0.075..  Test Loss: 0.061.. \n",
      "Epoch: 79/100..  Training Loss: 0.074..  Test Loss: 0.062.. \n",
      "Epoch: 80/100..  Training Loss: 0.046..  Test Loss: 0.064.. \n",
      "Epoch: 81/100..  Training Loss: 0.053..  Test Loss: 0.061.. \n",
      "Epoch: 82/100..  Training Loss: 0.056..  Test Loss: 0.062.. \n",
      "Epoch: 83/100..  Training Loss: 0.053..  Test Loss: 0.060.. \n",
      "Epoch: 84/100..  Training Loss: 0.046..  Test Loss: 0.060.. \n",
      "Epoch: 85/100..  Training Loss: 0.057..  Test Loss: 0.079.. \n",
      "Epoch: 86/100..  Training Loss: 0.041..  Test Loss: 0.061.. \n",
      "Epoch: 87/100..  Training Loss: 0.046..  Test Loss: 0.061.. \n",
      "Epoch: 88/100..  Training Loss: 0.068..  Test Loss: 0.061.. \n",
      "Epoch: 89/100..  Training Loss: 0.051..  Test Loss: 0.065.. \n",
      "Epoch: 90/100..  Training Loss: 0.055..  Test Loss: 0.083.. \n",
      "Epoch: 91/100..  Training Loss: 0.046..  Test Loss: 0.084.. \n",
      "Epoch: 92/100..  Training Loss: 0.042..  Test Loss: 0.066.. \n",
      "Epoch: 93/100..  Training Loss: 0.050..  Test Loss: 0.085.. \n",
      "Epoch: 94/100..  Training Loss: 0.049..  Test Loss: 0.064.. \n",
      "Epoch: 95/100..  Training Loss: 0.047..  Test Loss: 0.086.. \n",
      "Epoch: 96/100..  Training Loss: 0.051..  Test Loss: 0.068.. \n",
      "Epoch: 97/100..  Training Loss: 0.043..  Test Loss: 0.067.. \n",
      "Epoch: 98/100..  Training Loss: 0.049..  Test Loss: 0.065.. \n",
      "Epoch: 99/100..  Training Loss: 0.045..  Test Loss: 0.066.. \n",
      "Epoch: 100/100..  Training Loss: 0.046..  Test Loss: 0.086.. \n"
     ]
    }
   ],
   "source": [
    "model = BinaryClassifier(input_features = 10, hidden_dim = 15, output_dim = 1)\n",
    "\n",
    "optimizer = optim.Adam(model.parameters(), lr=0.003)\n",
    "criterion = nn.BCELoss()\n",
    "\n",
    "\n",
    "epochs = 100\n",
    "steps = 0\n",
    "\n",
    "train_losses, test_losses = [], []\n",
    "for e in range(epochs):\n",
    "    train_loss = 0\n",
    "    for batch in trainloader:\n",
    "        # get data\n",
    "        batch_x, batch_y = batch\n",
    "        optimizer.zero_grad()\n",
    "\n",
    "        # get predictions from model\n",
    "        y_pred = model(batch_x)\n",
    "            \n",
    "        # perform backprop\n",
    "        loss = criterion(y_pred, batch_y)\n",
    "        loss.backward()\n",
    "        optimizer.step()\n",
    "            \n",
    "        train_loss += loss.data.item()\n",
    "\n",
    "    else:\n",
    "        test_loss = 0\n",
    "        \n",
    "        # Turn off gradients for validation, saves memory and computations\n",
    "        with torch.no_grad():\n",
    "            for tbatch in testloader:\n",
    "                model.eval()\n",
    "                tbatch_x, tbatch_y = tbatch\n",
    "                ty_pred = model(tbatch_x)\n",
    "                test_loss += criterion(ty_pred, tbatch_y)\n",
    "        \n",
    "    model.train()\n",
    "        \n",
    "    train_losses.append(train_loss/len(trainloader))\n",
    "    test_losses.append(test_loss/len(testloader))\n",
    "\n",
    "    print(\"Epoch: {}/{}.. \".format(e+1, epochs),\n",
    "            \"Training Loss: {:.3f}.. \".format(train_losses[-1]),\n",
    "            \"Test Loss: {:.3f}.. \".format(test_losses[-1]))"
   ]
  },
  {
   "cell_type": "code",
   "execution_count": 52,
   "metadata": {},
   "outputs": [
    {
     "data": {
      "text/plain": [
       "<matplotlib.legend.Legend at 0x7fd86cc54a20>"
      ]
     },
     "execution_count": 52,
     "metadata": {},
     "output_type": "execute_result"
    },
    {
     "data": {
      "image/png": "[encoded data removed]",
      "text/plain": [
       "<Figure size 432x288 with 1 Axes>"
      ]
     },
     "metadata": {
      "needs_background": "light"
     },
     "output_type": "display_data"
    }
   ],
   "source": [
    "plt.plot(train_losses, label='Training loss')\n",
    "plt.plot(test_losses, label='Validation loss')\n",
    "plt.legend(frameon=False)"
   ]
  },
  {
   "cell_type": "markdown",
   "metadata": {},
   "source": [
    "#### The Validation loss levels off around 50 epochs - so set this to avoid overfitting by the training data"
   ]
  },
  {
   "cell_type": "code",
   "execution_count": 58,
   "metadata": {},
   "outputs": [],
   "source": [
    "\n",
    "# specify an output path\n",
    "output_path = 's3://{}/{}'.format(bucket, prefix)\n",
    "\n",
    "# instantiate a pytorch estimator\n",
    "estimator = PyTorch(# sagemaker details\n",
    "                    sagemaker_session = sagemaker_session,\n",
    "                    role = role,\n",
    "                    output_path = output_path,\n",
    "                    train_instance_count=1,\n",
    "                    train_instance_type='ml.c4.xlarge',\n",
    "    \n",
    "                    # model source details\n",
    "                    entry_point = 'train.py', \n",
    "                    framework_version='1.0', \n",
    "                    source_dir='nnSource', \n",
    "                    hyperparameters={'input_features':10, # number of variables\n",
    "                                    'hidden_dim':15,\n",
    "                                    'output_dim':1,\n",
    "                                    'batch-size': 64,\n",
    "                                    'lr': 0.003,\n",
    "                                    'epochs': 50\n",
    "                                    }\n",
    "                    \n",
    "                    )"
   ]
  },
  {
   "cell_type": "code",
   "execution_count": 60,
   "metadata": {
    "collapsed": true,
    "jupyter": {
     "outputs_hidden": true
    }
   },
   "outputs": [
    {
     "name": "stderr",
     "output_type": "stream",
     "text": [
      "'create_image_uri' will be deprecated in favor of 'ImageURIProvider' class in SageMaker Python SDK v2.\n",
      "'s3_input' class will be renamed to 'TrainingInput' in SageMaker Python SDK v2.\n",
      "'create_image_uri' will be deprecated in favor of 'ImageURIProvider' class in SageMaker Python SDK v2.\n"
     ]
    },
    {
     "name": "stdout",
     "output_type": "stream",
     "text": [
      "2020-10-11 18:04:31 Starting - Starting the training job...\n",
      "2020-10-11 18:04:33 Starting - Launching requested ML instances......\n",
      "2020-10-11 18:05:33 Starting - Preparing the instances for training...\n",
      "2020-10-11 18:06:31 Downloading - Downloading input data...\n",
      "2020-10-11 18:06:57 Training - Training image download completed. Training in progress..\u001b[34mbash: cannot set terminal process group (-1): Inappropriate ioctl for device\u001b[0m\n",
      "\u001b[34mbash: no job control in this shell\u001b[0m\n",
      "\u001b[34m2020-10-11 18:06:59,287 sagemaker-containers INFO     Imported framework sagemaker_pytorch_container.training\u001b[0m\n",
      "\u001b[34m2020-10-11 18:06:59,290 sagemaker-containers INFO     No GPUs detected (normal if no gpus installed)\u001b[0m\n",
      "\u001b[34m2020-10-11 18:06:59,303 sagemaker_pytorch_container.training INFO     Block until all host DNS lookups succeed.\u001b[0m\n",
      "\u001b[34m2020-10-11 18:07:00,755 sagemaker_pytorch_container.training INFO     Invoking user training script.\u001b[0m\n",
      "\u001b[34m2020-10-11 18:07:01,193 sagemaker-containers INFO     Module train does not provide a setup.py. \u001b[0m\n",
      "\u001b[34mGenerating setup.py\u001b[0m\n",
      "\u001b[34m2020-10-11 18:07:01,193 sagemaker-containers INFO     Generating setup.cfg\u001b[0m\n",
      "\u001b[34m2020-10-11 18:07:01,193 sagemaker-containers INFO     Generating MANIFEST.in\u001b[0m\n",
      "\u001b[34m2020-10-11 18:07:01,193 sagemaker-containers INFO     Installing module with the following command:\u001b[0m\n",
      "\u001b[34m/usr/bin/python -m pip install -U . \u001b[0m\n",
      "\u001b[34mProcessing /opt/ml/code\u001b[0m\n",
      "\u001b[34mBuilding wheels for collected packages: train\n",
      "  Running setup.py bdist_wheel for train: started\n",
      "  Running setup.py bdist_wheel for train: finished with status 'done'\n",
      "  Stored in directory: /tmp/pip-ephem-wheel-cache-t57yh6kb/wheels/35/24/16/37574d11bf9bde50616c67372a334f94fa8356bc7164af8ca3\u001b[0m\n",
      "\u001b[34mSuccessfully built train\u001b[0m\n",
      "\u001b[34mInstalling collected packages: train\u001b[0m\n",
      "\u001b[34mSuccessfully installed train-1.0.0\u001b[0m\n",
      "\u001b[34mYou are using pip version 18.1, however version 20.2.3 is available.\u001b[0m\n",
      "\u001b[34mYou should consider upgrading via the 'pip install --upgrade pip' command.\u001b[0m\n",
      "\u001b[34m2020-10-11 18:07:03,246 sagemaker-containers INFO     No GPUs detected (normal if no gpus installed)\u001b[0m\n",
      "\u001b[34m2020-10-11 18:07:03,259 sagemaker-containers INFO     Invoking user script\n",
      "\u001b[0m\n",
      "\u001b[34mTraining Env:\n",
      "\u001b[0m\n",
      "\u001b[34m{\n",
      "    \"additional_framework_parameters\": {},\n",
      "    \"channel_input_dirs\": {\n",
      "        \"train\": \"/opt/ml/input/data/train\"\n",
      "    },\n",
      "    \"current_host\": \"algo-1\",\n",
      "    \"framework_module\": \"sagemaker_pytorch_container.training:main\",\n",
      "    \"hosts\": [\n",
      "        \"algo-1\"\n",
      "    ],\n",
      "    \"hyperparameters\": {\n",
      "        \"batch-size\": 64,\n",
      "        \"hidden_dim\": 15,\n",
      "        \"lr\": 0.003,\n",
      "        \"input_features\": 10,\n",
      "        \"epochs\": 50,\n",
      "        \"output_dim\": 1\n",
      "    },\n",
      "    \"input_config_dir\": \"/opt/ml/input/config\",\n",
      "    \"input_data_config\": {\n",
      "        \"train\": {\n",
      "            \"TrainingInputMode\": \"File\",\n",
      "            \"S3DistributionType\": \"FullyReplicated\",\n",
      "            \"RecordWrapperType\": \"None\"\n",
      "        }\n",
      "    },\n",
      "    \"input_dir\": \"/opt/ml/input\",\n",
      "    \"is_master\": true,\n",
      "    \"job_name\": \"sagemaker-pytorch-2020-10-11-18-04-31-673\",\n",
      "    \"log_level\": 20,\n",
      "    \"master_hostname\": \"algo-1\",\n",
      "    \"model_dir\": \"/opt/ml/model\",\n",
      "    \"module_dir\": \"s3://sagemaker-eu-west-1-396358375665/sagemaker-pytorch-2020-10-11-18-04-31-673/source/sourcedir.tar.gz\",\n",
      "    \"module_name\": \"train\",\n",
      "    \"network_interface_name\": \"eth0\",\n",
      "    \"num_cpus\": 4,\n",
      "    \"num_gpus\": 0,\n",
      "    \"output_data_dir\": \"/opt/ml/output/data\",\n",
      "    \"output_dir\": \"/opt/ml/output\",\n",
      "    \"output_intermediate_dir\": \"/opt/ml/output/intermediate\",\n",
      "    \"resource_config\": {\n",
      "        \"current_host\": \"algo-1\",\n",
      "        \"hosts\": [\n",
      "            \"algo-1\"\n",
      "        ],\n",
      "        \"network_interface_name\": \"eth0\"\n",
      "    },\n",
      "    \"user_entry_point\": \"train.py\"\u001b[0m\n",
      "\u001b[34m}\n",
      "\u001b[0m\n",
      "\u001b[34mEnvironment variables:\n",
      "\u001b[0m\n",
      "\u001b[34mSM_HOSTS=[\"algo-1\"]\u001b[0m\n",
      "\u001b[34mSM_NETWORK_INTERFACE_NAME=eth0\u001b[0m\n",
      "\u001b[34mSM_HPS={\"batch-size\":64,\"epochs\":50,\"hidden_dim\":15,\"input_features\":10,\"lr\":0.003,\"output_dim\":1}\u001b[0m\n",
      "\u001b[34mSM_USER_ENTRY_POINT=train.py\u001b[0m\n",
      "\u001b[34mSM_FRAMEWORK_PARAMS={}\u001b[0m\n",
      "\u001b[34mSM_RESOURCE_CONFIG={\"current_host\":\"algo-1\",\"hosts\":[\"algo-1\"],\"network_interface_name\":\"eth0\"}\u001b[0m\n",
      "\u001b[34mSM_INPUT_DATA_CONFIG={\"train\":{\"RecordWrapperType\":\"None\",\"S3DistributionType\":\"FullyReplicated\",\"TrainingInputMode\":\"File\"}}\u001b[0m\n",
      "\u001b[34mSM_OUTPUT_DATA_DIR=/opt/ml/output/data\u001b[0m\n",
      "\u001b[34mSM_CHANNELS=[\"train\"]\u001b[0m\n",
      "\u001b[34mSM_CURRENT_HOST=algo-1\u001b[0m\n",
      "\u001b[34mSM_MODULE_NAME=train\u001b[0m\n",
      "\u001b[34mSM_LOG_LEVEL=20\u001b[0m\n",
      "\u001b[34mSM_FRAMEWORK_MODULE=sagemaker_pytorch_container.training:main\u001b[0m\n",
      "\u001b[34mSM_INPUT_DIR=/opt/ml/input\u001b[0m\n",
      "\u001b[34mSM_INPUT_CONFIG_DIR=/opt/ml/input/config\u001b[0m\n",
      "\u001b[34mSM_OUTPUT_DIR=/opt/ml/output\u001b[0m\n",
      "\u001b[34mSM_NUM_CPUS=4\u001b[0m\n",
      "\u001b[34mSM_NUM_GPUS=0\u001b[0m\n",
      "\u001b[34mSM_MODEL_DIR=/opt/ml/model\u001b[0m\n",
      "\u001b[34mSM_MODULE_DIR=s3://sagemaker-eu-west-1-396358375665/sagemaker-pytorch-2020-10-11-18-04-31-673/source/sourcedir.tar.gz\u001b[0m\n",
      "\u001b[34mSM_TRAINING_ENV={\"additional_framework_parameters\":{},\"channel_input_dirs\":{\"train\":\"/opt/ml/input/data/train\"},\"current_host\":\"algo-1\",\"framework_module\":\"sagemaker_pytorch_container.training:main\",\"hosts\":[\"algo-1\"],\"hyperparameters\":{\"batch-size\":64,\"epochs\":50,\"hidden_dim\":15,\"input_features\":10,\"lr\":0.003,\"output_dim\":1},\"input_config_dir\":\"/opt/ml/input/config\",\"input_data_config\":{\"train\":{\"RecordWrapperType\":\"None\",\"S3DistributionType\":\"FullyReplicated\",\"TrainingInputMode\":\"File\"}},\"input_dir\":\"/opt/ml/input\",\"is_master\":true,\"job_name\":\"sagemaker-pytorch-2020-10-11-18-04-31-673\",\"log_level\":20,\"master_hostname\":\"algo-1\",\"model_dir\":\"/opt/ml/model\",\"module_dir\":\"s3://sagemaker-eu-west-1-396358375665/sagemaker-pytorch-2020-10-11-18-04-31-673/source/sourcedir.tar.gz\",\"module_name\":\"train\",\"network_interface_name\":\"eth0\",\"num_cpus\":4,\"num_gpus\":0,\"output_data_dir\":\"/opt/ml/output/data\",\"output_dir\":\"/opt/ml/output\",\"output_intermediate_dir\":\"/opt/ml/output/intermediate\",\"resource_config\":{\"current_host\":\"algo-1\",\"hosts\":[\"algo-1\"],\"network_interface_name\":\"eth0\"},\"user_entry_point\":\"train.py\"}\u001b[0m\n",
      "\u001b[34mSM_USER_ARGS=[\"--batch-size\",\"64\",\"--epochs\",\"50\",\"--hidden_dim\",\"15\",\"--input_features\",\"10\",\"--lr\",\"0.003\",\"--output_dim\",\"1\"]\u001b[0m\n",
      "\u001b[34mSM_OUTPUT_INTERMEDIATE_DIR=/opt/ml/output/intermediate\u001b[0m\n",
      "\u001b[34mSM_CHANNEL_TRAIN=/opt/ml/input/data/train\u001b[0m\n",
      "\u001b[34mSM_HP_BATCH-SIZE=64\u001b[0m\n",
      "\u001b[34mSM_HP_HIDDEN_DIM=15\u001b[0m\n",
      "\u001b[34mSM_HP_LR=0.003\u001b[0m\n",
      "\u001b[34mSM_HP_INPUT_FEATURES=10\u001b[0m\n",
      "\u001b[34mSM_HP_EPOCHS=50\u001b[0m\n",
      "\u001b[34mSM_HP_OUTPUT_DIM=1\u001b[0m\n",
      "\u001b[34mPYTHONPATH=/usr/local/bin:/usr/lib/python36.zip:/usr/lib/python3.6:/usr/lib/python3.6/lib-dynload:/usr/local/lib/python3.6/dist-packages:/usr/lib/python3/dist-packages\n",
      "\u001b[0m\n",
      "\u001b[34mInvoking script with the following command:\n",
      "\u001b[0m\n",
      "\u001b[34m/usr/bin/python -m train --batch-size 64 --epochs 50 --hidden_dim 15 --input_features 10 --lr 0.003 --output_dim 1\n",
      "\n",
      "\u001b[0m\n",
      "\u001b[34mUsing device cpu.\u001b[0m\n",
      "\u001b[34mGet train data loader.\u001b[0m\n",
      "\u001b[34mGet test data loader.\u001b[0m\n",
      "\u001b[34mEpoch: 1, Training Loss: 0.7038511804171971\u001b[0m\n",
      "\u001b[34mEpoch: 2, Training Loss: 0.6350504074777875\u001b[0m\n",
      "\u001b[34mEpoch: 3, Training Loss: 0.5706402574266706\u001b[0m\n",
      "\u001b[34mEpoch: 4, Training Loss: 0.5142622249467033\u001b[0m\n",
      "\u001b[34mEpoch: 5, Training Loss: 0.4707763024738857\u001b[0m\n",
      "\u001b[34mEpoch: 6, Training Loss: 0.419934413262776\u001b[0m\n",
      "\u001b[34mEpoch: 7, Training Loss: 0.38431717668260845\u001b[0m\n",
      "\u001b[34mEpoch: 8, Training Loss: 0.3409982791968754\u001b[0m\n",
      "\u001b[34mEpoch: 9, Training Loss: 0.31505433150700163\u001b[0m\n",
      "\u001b[34mEpoch: 10, Training Loss: 0.28774859649794443\u001b[0m\n",
      "\u001b[34mEpoch: 11, Training Loss: 0.2619594505855015\u001b[0m\n",
      "\u001b[34mEpoch: 12, Training Loss: 0.23283634228365763\u001b[0m\n",
      "\u001b[34mEpoch: 13, Training Loss: 0.2086753568478993\u001b[0m\n",
      "\u001b[34mEpoch: 14, Training Loss: 0.18956959886210306\u001b[0m\n",
      "\u001b[34mEpoch: 15, Training Loss: 0.1806792446545192\u001b[0m\n",
      "\u001b[34mEpoch: 16, Training Loss: 0.1584376341530255\u001b[0m\n",
      "\u001b[34mEpoch: 17, Training Loss: 0.1475027267421995\u001b[0m\n",
      "\u001b[34mEpoch: 18, Training Loss: 0.13784985776458467\u001b[0m\n",
      "\u001b[34mEpoch: 19, Training Loss: 0.13063997881753103\u001b[0m\n",
      "\u001b[34mEpoch: 20, Training Loss: 0.1267541583095278\u001b[0m\n",
      "\u001b[34mEpoch: 21, Training Loss: 0.11752106142895562\u001b[0m\n",
      "\u001b[34mEpoch: 22, Training Loss: 0.10931478547198432\u001b[0m\n",
      "\u001b[34mEpoch: 23, Training Loss: 0.11323913080351693\u001b[0m\n",
      "\u001b[34mEpoch: 24, Training Loss: 0.10171888555799212\u001b[0m\n",
      "\u001b[34mEpoch: 25, Training Loss: 0.09103116126997131\u001b[0m\n",
      "\u001b[34mEpoch: 26, Training Loss: 0.09125402782644544\u001b[0m\n",
      "\u001b[34mEpoch: 27, Training Loss: 0.09973666178328651\u001b[0m\n",
      "\u001b[34mEpoch: 28, Training Loss: 0.0911628742303167\u001b[0m\n",
      "\u001b[34mEpoch: 29, Training Loss: 0.08708389369504792\u001b[0m\n",
      "\u001b[34mEpoch: 30, Training Loss: 0.08276349891509328\u001b[0m\n",
      "\u001b[34mEpoch: 31, Training Loss: 0.07837972257818494\u001b[0m\n",
      "\u001b[34mEpoch: 32, Training Loss: 0.08581292895334107\u001b[0m\n",
      "\u001b[34mEpoch: 33, Training Loss: 0.08006460006747927\u001b[0m\n",
      "\u001b[34mEpoch: 34, Training Loss: 0.07691336928733758\u001b[0m\n",
      "\u001b[34mEpoch: 35, Training Loss: 0.06781062696661268\u001b[0m\n",
      "\u001b[34mEpoch: 36, Training Loss: 0.08399825117417745\u001b[0m\n",
      "\u001b[34mEpoch: 37, Training Loss: 0.06571567271436964\u001b[0m\n",
      "\u001b[34mEpoch: 38, Training Loss: 0.07466731992151056\u001b[0m\n",
      "\u001b[34mEpoch: 39, Training Loss: 0.08116908105356353\u001b[0m\n",
      "\u001b[34mEpoch: 40, Training Loss: 0.06907345434384686\u001b[0m\n",
      "\u001b[34mEpoch: 41, Training Loss: 0.06874644064477511\u001b[0m\n",
      "\u001b[34mEpoch: 42, Training Loss: 0.0637271696967738\u001b[0m\n",
      "\u001b[34mEpoch: 43, Training Loss: 0.06084186903067997\u001b[0m\n",
      "\u001b[34mEpoch: 44, Training Loss: 0.06153202562459877\u001b[0m\n",
      "\u001b[34mEpoch: 45, Training Loss: 0.062145277591688294\u001b[0m\n",
      "\u001b[34mEpoch: 46, Training Loss: 0.06366714462637901\u001b[0m\n",
      "\u001b[34mEpoch: 47, Training Loss: 0.06076774666351931\u001b[0m\n",
      "\u001b[34mEpoch: 48, Training Loss: 0.05588082317262888\u001b[0m\n",
      "\u001b[34mEpoch: 49, Training Loss: 0.06269324836986405\u001b[0m\n",
      "\u001b[34mEpoch: 50, Training Loss: 0.06807495547192437\u001b[0m\n",
      "\u001b[34m2020-10-11 18:07:05,512 sagemaker-containers INFO     Reporting training SUCCESS\u001b[0m\n",
      "\n",
      "2020-10-11 18:07:15 Uploading - Uploading generated training model\n",
      "2020-10-11 18:07:15 Completed - Training job completed\n",
      "Training seconds: 44\n",
      "Billable seconds: 44\n",
      "CPU times: user 516 ms, sys: 20.3 ms, total: 536 ms\n",
      "Wall time: 3min 11s\n"
     ]
    }
   ],
   "source": [
    "%%time\n",
    "\n",
    "# Train your estimator on S3 training data\n",
    "estimator.fit({'train': input_data})"
   ]
  },
  {
   "cell_type": "markdown",
   "metadata": {},
   "source": [
    "#### Deploy the trained model"
   ]
  },
  {
   "cell_type": "code",
   "execution_count": 63,
   "metadata": {},
   "outputs": [
    {
     "name": "stderr",
     "output_type": "stream",
     "text": [
      "Parameter image will be renamed to image_uri in SageMaker Python SDK v2.\n"
     ]
    },
    {
     "name": "stdout",
     "output_type": "stream",
     "text": [
      "CPU times: user 16 ms, sys: 0 ns, total: 16 ms\n",
      "Wall time: 53.6 ms\n"
     ]
    }
   ],
   "source": [
    "%%time\n",
    "\n",
    "from sagemaker.pytorch import PyTorchModel\n",
    "\n",
    "\n",
    "# deploy your model to create a predictor\n",
    "model = PyTorchModel(# sagemaker details\n",
    "                    role = role,\n",
    "                    # model details\n",
    "                    framework_version='1.0',\n",
    "                    model_data = estimator.model_data,\n",
    "                    source_dir = 'nnSource',\n",
    "                    entry_point = 'predict.py')"
   ]
  },
  {
   "cell_type": "code",
   "execution_count": 64,
   "metadata": {},
   "outputs": [
    {
     "name": "stderr",
     "output_type": "stream",
     "text": [
      "'create_image_uri' will be deprecated in favor of 'ImageURIProvider' class in SageMaker Python SDK v2.\n"
     ]
    },
    {
     "name": "stdout",
     "output_type": "stream",
     "text": [
      "---------------!CPU times: user 401 ms, sys: 34.3 ms, total: 435 ms\n",
      "Wall time: 7min 33s\n"
     ]
    }
   ],
   "source": [
    "%%time\n",
    "predictor = model.deploy(initial_instance_count=1, instance_type='ml.t2.medium')"
   ]
  },
  {
   "cell_type": "markdown",
   "metadata": {},
   "source": [
    "#### Evaluating the model"
   ]
  },
  {
   "cell_type": "code",
   "execution_count": 65,
   "metadata": {},
   "outputs": [],
   "source": [
    "# read in test data, assuming it is stored locally\n",
    "train_data = pd.read_csv(os.path.join(data_dir, \"nntrain.csv\"), header=None, names=None)\n",
    "\n",
    "# labels are in the first column\n",
    "train_y = train_data.iloc[:,0]\n",
    "train_x = train_data.iloc[:,1:]"
   ]
  },
  {
   "cell_type": "code",
   "execution_count": 66,
   "metadata": {},
   "outputs": [],
   "source": [
    "# read in test data, assuming it is stored locally\n",
    "test_data = pd.read_csv(os.path.join(data_dir, \"nntest.csv\"), header=None, names=None)\n",
    "\n",
    "# labels are in the first column\n",
    "test_y = test_data.iloc[:,0]\n",
    "test_x = test_data.iloc[:,1:]"
   ]
  },
  {
   "cell_type": "markdown",
   "metadata": {},
   "source": [
    "use the training data as a robustness check"
   ]
  },
  {
   "cell_type": "code",
   "execution_count": 67,
   "metadata": {},
   "outputs": [
    {
     "data": {
      "text/plain": [
       "array([0., 1., 0., 1., 1., 1., 1., 1., 0., 0., 0., 1., 1., 0., 0., 0., 0.,\n",
       "       0., 0., 1., 0., 0., 1., 0., 1., 0., 0., 1., 1., 1., 1., 0., 1., 1.,\n",
       "       0., 0., 1., 0., 1., 0., 0., 0., 0., 0., 0., 1., 0., 0., 0., 1., 1.,\n",
       "       1., 0., 0., 0., 0., 0., 1., 0., 0., 0., 1., 0., 0., 0., 0., 0., 1.,\n",
       "       0., 0., 0., 0., 0., 1., 0., 1., 0., 0., 0., 1., 0., 1., 0., 1., 0.,\n",
       "       0., 1., 0., 1., 0., 0., 1., 0., 0., 1., 1., 0., 0., 0., 0., 0., 0.,\n",
       "       0., 0., 0., 0., 0., 0., 1., 1., 1., 0., 0., 0., 1., 1., 0., 0., 0.,\n",
       "       0., 0., 1., 1., 0., 0., 1., 1., 0., 1., 1., 0., 0., 0., 1., 0., 1.,\n",
       "       1., 0., 0., 0., 1., 1., 0., 1., 0., 1., 0., 0., 0., 1., 0., 0., 0.,\n",
       "       1., 0., 0., 0., 0., 0., 0., 0., 0., 0., 1., 0., 0., 1., 1., 1., 0.,\n",
       "       0., 0., 0., 0., 0., 0., 0., 0., 0., 0., 0., 0., 0., 0., 0., 1., 1.,\n",
       "       0., 1., 0., 0., 0., 0., 1., 1., 0., 0., 1., 1., 0., 1., 0., 1., 0.,\n",
       "       1., 1., 0., 0., 1., 1., 1., 0., 0., 0., 1., 0., 0., 0., 0., 0., 0.,\n",
       "       0., 1., 0., 1., 0., 0., 1., 1., 1., 1., 0., 0., 1., 1., 1., 1., 1.,\n",
       "       0., 1., 0., 0., 0., 0., 0., 1., 0., 0., 1., 1., 1., 1., 0., 1., 0.,\n",
       "       0., 0., 0., 1., 0., 0., 0., 1., 0., 0., 0., 1., 0., 0., 0., 0., 1.,\n",
       "       0., 0., 1., 1., 1., 0., 0., 1., 0., 0., 0., 0., 0., 1., 0., 0., 0.,\n",
       "       1., 0., 1., 1., 1., 1., 0., 1., 1., 1., 0., 0., 1., 0., 0., 0., 0.,\n",
       "       1., 1., 0., 0., 0., 1., 0., 0., 0., 1., 0., 0., 1., 0., 0., 0., 0.,\n",
       "       1., 1., 0., 1., 1., 0., 1., 0., 1., 1., 0., 0., 1., 0., 0., 0., 0.,\n",
       "       0., 1., 0., 0., 0., 0., 1., 0., 0., 0., 0., 0., 1., 1., 1., 0., 1.,\n",
       "       1., 0., 1., 0., 0., 0., 1., 0., 1., 0., 0., 0., 0., 1., 1., 0., 0.,\n",
       "       0., 0., 1., 0., 0., 1., 1., 1., 0., 1., 1., 1., 0., 0., 0., 0., 0.,\n",
       "       0., 0., 1., 0., 1., 1., 1.], dtype=float32)"
      ]
     },
     "execution_count": 67,
     "metadata": {},
     "output_type": "execute_result"
    }
   ],
   "source": [
    "train_y_preds = np.squeeze(np.round(predictor.predict(train_x)))\n",
    "train_y_preds"
   ]
  },
  {
   "cell_type": "code",
   "execution_count": 68,
   "metadata": {},
   "outputs": [],
   "source": [
    "# returns a variety of model metrics\n",
    "def evaluate(test_preds, test_labels,  verbose=True):\n",
    "    \"\"\"\n",
    "    Evaluate a model on a test set given the prediction endpoint outcomes.  \n",
    "    Return binary classification metrics.\n",
    "    :param test_preds: A prediction endpoint output as a dataframe\n",
    "    :param test_labels: Class labels for test data as a dataframe\n",
    "    :param verbose: If True, prints a table of all performance metrics\n",
    "    :return: A dictionary of performance metrics.\n",
    "    \"\"\"\n",
    "    \n",
    "    # calculate true positives, false positives, true negatives, false negatives\n",
    "    tp = np.logical_and(test_labels, test_preds).sum()\n",
    "    fp = np.logical_and(1-test_labels, test_preds).sum()\n",
    "    tn = np.logical_and(1-test_labels, 1-test_preds).sum()\n",
    "    fn = np.logical_and(test_labels, 1-test_preds).sum()\n",
    "    \n",
    "    # calculate binary classification metrics\n",
    "    recall = tp / (tp + fn)\n",
    "    precision = tp / (tp + fp)\n",
    "    accuracy = (tp + tn) / (tp + fp + tn + fn)\n",
    "    \n",
    "    # printing a table of metrics\n",
    "    if verbose:\n",
    "        print(pd.crosstab(test_labels, test_preds, rownames=['actual (row)'], colnames=['prediction (col)']))\n",
    "        print(\"\\n{:<11} {:.3f}\".format('Recall:', recall))\n",
    "        print(\"{:<11} {:.3f}\".format('Precision:', precision))\n",
    "        print(\"{:<11} {:.3f}\".format('Accuracy:', accuracy))\n",
    "        print()\n",
    "        \n",
    "    return {'TP': tp, 'FP': fp, 'FN': fn, 'TN': tn, \n",
    "            'Precision': precision, 'Recall': recall, 'Accuracy': accuracy}"
   ]
  },
  {
   "cell_type": "code",
   "execution_count": 69,
   "metadata": {},
   "outputs": [
    {
     "name": "stdout",
     "output_type": "stream",
     "text": [
      "Train Metrics Neural Network Model.\n",
      "\n",
      "prediction (col)  0.0  1.0\n",
      "actual (row)              \n",
      "0.0               247    2\n",
      "1.0                 4  145\n",
      "\n",
      "Recall:     0.973\n",
      "Precision:  0.986\n",
      "Accuracy:   0.985\n",
      "\n"
     ]
    }
   ],
   "source": [
    "print('Train Metrics Neural Network Model.\\n')\n",
    "\n",
    "# get metrics for neural net predictor\n",
    "metrics = evaluate(train_y_preds, \n",
    "                   train_y, \n",
    "                   verbose=True) # verbose means we'll print out the metrics"
   ]
  },
  {
   "cell_type": "markdown",
   "metadata": {},
   "source": [
    "use the test data for model performance"
   ]
  },
  {
   "cell_type": "code",
   "execution_count": 70,
   "metadata": {},
   "outputs": [],
   "source": [
    "test_y_preds = np.squeeze(np.round(predictor.predict(test_x)))"
   ]
  },
  {
   "cell_type": "code",
   "execution_count": 71,
   "metadata": {},
   "outputs": [
    {
     "name": "stdout",
     "output_type": "stream",
     "text": [
      "Test Metrics Neural Network Model.\n",
      "\n",
      "prediction (col)  0.0  1.0\n",
      "actual (row)              \n",
      "0.0               108    0\n",
      "1.0                 2   61\n",
      "\n",
      "Recall:     0.968\n",
      "Precision:  1.000\n",
      "Accuracy:   0.988\n",
      "\n"
     ]
    }
   ],
   "source": [
    "print('Test Metrics Neural Network Model.\\n')\n",
    "\n",
    "# get metrics for neural net predictor\n",
    "metrics = evaluate(test_y_preds, \n",
    "                   test_y, \n",
    "                   verbose=True) # verbose means we'll print out the metrics"
   ]
  },
  {
   "cell_type": "markdown",
   "metadata": {},
   "source": [
    "#### Delete the endpoint"
   ]
  },
  {
   "cell_type": "code",
   "execution_count": 72,
   "metadata": {},
   "outputs": [],
   "source": [
    "# Deletes a precictor.endpoint\n",
    "def delete_endpoint(predictor):\n",
    "        try:\n",
    "            boto3.client('sagemaker').delete_endpoint(EndpointName=predictor.endpoint)\n",
    "            print('Deleted {}'.format(predictor.endpoint))\n",
    "        except:\n",
    "            print('Already deleted: {}'.format(predictor.endpoint))"
   ]
  },
  {
   "cell_type": "code",
   "execution_count": 73,
   "metadata": {},
   "outputs": [
    {
     "name": "stdout",
     "output_type": "stream",
     "text": [
      "Deleted sagemaker-pytorch-2020-10-11-18-14-37-985\n"
     ]
    }
   ],
   "source": [
    "delete_endpoint(predictor)"
   ]
  }
 ],
 "metadata": {
  "kernelspec": {
   "display_name": "conda_pytorch_p36",
   "language": "python",
   "name": "conda_pytorch_p36"
  },
  "language_info": {
   "codemirror_mode": {
    "name": "ipython",
    "version": 3
   },
   "file_extension": ".py",
   "mimetype": "text/x-python",
   "name": "python",
   "nbconvert_exporter": "python",
   "pygments_lexer": "ipython3",
   "version": "3.6.10"
  }
 },
 "nbformat": 4,
 "nbformat_minor": 4
}
